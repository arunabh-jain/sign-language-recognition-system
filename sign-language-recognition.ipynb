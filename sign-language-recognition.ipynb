{
 "cells": [
  {
   "cell_type": "markdown",
   "id": "bd80fc40",
   "metadata": {},
   "source": [
    "**Problem Definition**\n",
    "\n",
    "Convert the Sign Alphabet to Text\n",
    "\n",
    "**Data**\n",
    "\n",
    "[Dataset](https://www.kaggle.com/datasets/datamunge/sign-language-mnist)\n",
    "\n",
    "1. No cases for the letters J & Z (Reason: J & Z require motion)\n",
    "2. GrayScale Images\n",
    "3. Pixel Values Range From 0 to 255\n",
    "4. Each image contains 784 Pixels\n",
    "\n",
    "\n",
    "**Evaluation**\n",
    "\n",
    "Accuracy\n",
    "\n",
    "**Modelling**\n",
    "\n",
    "CNN"
   ]
  },
  {
   "cell_type": "markdown",
   "id": "83ec1c39",
   "metadata": {},
   "source": [
    "# Initial End-to-End Workflow (Start)"
   ]
  },
  {
   "cell_type": "code",
   "execution_count": 1,
   "id": "15daf294",
   "metadata": {
    "ExecuteTime": {
     "end_time": "2023-05-27T10:14:51.778792Z",
     "start_time": "2023-05-27T10:14:47.898806Z"
    }
   },
   "outputs": [],
   "source": [
    "# Importing required libraries\n",
    "\n",
    "from sklearn.preprocessing import LabelBinarizer\n",
    "from tensorflow import keras\n",
    "from keras.utils import plot_model\n",
    "\n",
    "import tensorflow as tf\n",
    "import numpy as np\n",
    "import pandas as pd\n",
    "import matplotlib.pyplot as plt\n",
    "import pickle"
   ]
  },
  {
   "cell_type": "code",
   "execution_count": 2,
   "id": "dafa44b9",
   "metadata": {
    "ExecuteTime": {
     "end_time": "2023-05-27T10:14:52.579531Z",
     "start_time": "2023-05-27T10:14:51.800835Z"
    }
   },
   "outputs": [],
   "source": [
    "# loading the training data (X+y)\n",
    "train_df = pd.read_csv('data/alphabet/sign_mnist_train.csv')"
   ]
  },
  {
   "cell_type": "code",
   "execution_count": 3,
   "id": "d7669304",
   "metadata": {
    "ExecuteTime": {
     "end_time": "2023-05-27T10:14:54.886627Z",
     "start_time": "2023-05-27T10:14:54.812534Z"
    }
   },
   "outputs": [],
   "source": [
    "train_df = train_df.sample(frac=1, random_state=42) # Shuffiling the entire dataset"
   ]
  },
  {
   "cell_type": "code",
   "execution_count": 4,
   "id": "8269e216",
   "metadata": {
    "ExecuteTime": {
     "end_time": "2023-05-27T10:14:55.762821Z",
     "start_time": "2023-05-27T10:14:55.719226Z"
    }
   },
   "outputs": [],
   "source": [
    "X, y = train_df.drop('label', axis=1), train_df['label'] # Split the dataset into X, y"
   ]
  },
  {
   "cell_type": "code",
   "execution_count": 5,
   "id": "8c2b3aa3",
   "metadata": {
    "ExecuteTime": {
     "end_time": "2023-05-27T10:14:56.211724Z",
     "start_time": "2023-05-27T10:14:56.199151Z"
    }
   },
   "outputs": [
    {
     "data": {
      "text/plain": [
       "((27455, 784), (27455,))"
      ]
     },
     "execution_count": 5,
     "metadata": {},
     "output_type": "execute_result"
    }
   ],
   "source": [
    "X.shape, y.shape"
   ]
  },
  {
   "cell_type": "code",
   "execution_count": 6,
   "id": "da58cd49",
   "metadata": {
    "ExecuteTime": {
     "end_time": "2023-05-27T10:14:56.615418Z",
     "start_time": "2023-05-27T10:14:56.603395Z"
    }
   },
   "outputs": [
    {
     "data": {
      "text/plain": [
       "(array([dtype('int64')], dtype=object), dtype('int64'))"
      ]
     },
     "execution_count": 6,
     "metadata": {},
     "output_type": "execute_result"
    }
   ],
   "source": [
    "np.unique(X.dtypes), y.dtype"
   ]
  },
  {
   "cell_type": "code",
   "execution_count": 7,
   "id": "22b62d7a",
   "metadata": {
    "ExecuteTime": {
     "end_time": "2023-05-27T10:14:57.460114Z",
     "start_time": "2023-05-27T10:14:57.442322Z"
    }
   },
   "outputs": [],
   "source": [
    "label_binarizer = LabelBinarizer() # Binarize labels in a one-vs-all fashion (return one-hot encoded vectors)\n",
    "y = label_binarizer.fit_transform(y)"
   ]
  },
  {
   "cell_type": "code",
   "execution_count": 8,
   "id": "3cc4add2",
   "metadata": {
    "ExecuteTime": {
     "end_time": "2023-05-27T10:14:58.068442Z",
     "start_time": "2023-05-27T10:14:58.013384Z"
    }
   },
   "outputs": [],
   "source": [
    "X = X/255.0 # Normalizing the training data and converting the data type to float"
   ]
  },
  {
   "cell_type": "code",
   "execution_count": 9,
   "id": "d6700a24",
   "metadata": {
    "ExecuteTime": {
     "end_time": "2023-05-27T10:14:58.507366Z",
     "start_time": "2023-05-27T10:14:58.496858Z"
    }
   },
   "outputs": [
    {
     "data": {
      "text/plain": [
       "array([dtype('float64')], dtype=object)"
      ]
     },
     "execution_count": 9,
     "metadata": {},
     "output_type": "execute_result"
    }
   ],
   "source": [
    "np.unique(X.dtypes)"
   ]
  },
  {
   "cell_type": "code",
   "execution_count": 10,
   "id": "c9872eca",
   "metadata": {
    "ExecuteTime": {
     "end_time": "2023-05-27T10:14:58.980891Z",
     "start_time": "2023-05-27T10:14:58.890937Z"
    }
   },
   "outputs": [],
   "source": [
    "# Converting the 1-D array of 784 pixels to (28, 28, 1) Image\n",
    "# (28, 28) represents the spatial dimensions of the image & 1 specifies that the image is grayscale\n",
    "X = tf.reshape(X, [-1, 28, 28, 1])"
   ]
  },
  {
   "cell_type": "code",
   "execution_count": 11,
   "id": "c6a7f19f",
   "metadata": {
    "ExecuteTime": {
     "end_time": "2023-05-27T10:14:59.405225Z",
     "start_time": "2023-05-27T10:14:59.396523Z"
    }
   },
   "outputs": [
    {
     "data": {
      "text/plain": [
       "(TensorShape([27455, 28, 28, 1]), (27455, 24))"
      ]
     },
     "execution_count": 11,
     "metadata": {},
     "output_type": "execute_result"
    }
   ],
   "source": [
    "X.shape, y.shape"
   ]
  },
  {
   "cell_type": "code",
   "execution_count": 12,
   "id": "f950e21c",
   "metadata": {
    "ExecuteTime": {
     "end_time": "2023-05-27T10:14:59.920656Z",
     "start_time": "2023-05-27T10:14:59.906504Z"
    }
   },
   "outputs": [],
   "source": [
    "# Generating a validation set\n",
    "\n",
    "X_train, X_valid = X[:25000], X[25000:]\n",
    "y_train, y_valid = y[:25000], y[25000:]"
   ]
  },
  {
   "cell_type": "code",
   "execution_count": 13,
   "id": "a51e4a80",
   "metadata": {
    "ExecuteTime": {
     "end_time": "2023-05-27T10:15:00.385672Z",
     "start_time": "2023-05-27T10:15:00.374206Z"
    }
   },
   "outputs": [
    {
     "data": {
      "text/plain": [
       "tf.float64"
      ]
     },
     "execution_count": 13,
     "metadata": {},
     "output_type": "execute_result"
    }
   ],
   "source": [
    "X_train[0].dtype"
   ]
  },
  {
   "cell_type": "code",
   "execution_count": 14,
   "id": "f567ca9b",
   "metadata": {
    "ExecuteTime": {
     "end_time": "2023-05-27T10:15:00.852129Z",
     "start_time": "2023-05-27T10:15:00.843416Z"
    }
   },
   "outputs": [
    {
     "data": {
      "text/plain": [
       "TensorShape([28, 28, 1])"
      ]
     },
     "execution_count": 14,
     "metadata": {},
     "output_type": "execute_result"
    }
   ],
   "source": [
    "X_train[0].shape"
   ]
  },
  {
   "cell_type": "code",
   "execution_count": 15,
   "id": "d2533d22",
   "metadata": {
    "ExecuteTime": {
     "end_time": "2023-05-27T10:15:01.535202Z",
     "start_time": "2023-05-27T10:15:01.431810Z"
    }
   },
   "outputs": [
    {
     "data": {
      "text/plain": [
       "(<matplotlib.image.AxesImage at 0x28a45e510>,\n",
       " array([0, 0, 0, 0, 0, 0, 0, 0, 0, 0, 0, 0, 0, 0, 0, 0, 0, 0, 0, 0, 0, 0,\n",
       "        0, 1]))"
      ]
     },
     "execution_count": 15,
     "metadata": {},
     "output_type": "execute_result"
    },
    {
     "data": {
      "image/png": "[encoded data removed]",
      "text/plain": [
       "<Figure size 640x480 with 1 Axes>"
      ]
     },
     "metadata": {},
     "output_type": "display_data"
    }
   ],
   "source": [
    "plt.imshow(X[0], cmap='gray'), y[0]"
   ]
  },
  {
   "cell_type": "code",
   "execution_count": 16,
   "id": "09046338",
   "metadata": {
    "ExecuteTime": {
     "end_time": "2023-05-27T10:15:02.430663Z",
     "start_time": "2023-05-27T10:15:02.359448Z"
    }
   },
   "outputs": [],
   "source": [
    "# Defining the CNN\n",
    "\n",
    "model = keras.models.Sequential()\n",
    "model.add(keras.layers.Conv2D(32, (5, 5), padding='same', activation='relu', input_shape=(28, 28, 1)))\n",
    "model.add(keras.layers.MaxPooling2D(pool_size=(2, 2)))\n",
    "model.add(keras.layers.Conv2D(64, (5, 5), padding='same', activation='relu'))\n",
    "model.add(keras.layers.MaxPooling2D(pool_size=(2, 2)))\n",
    "model.add(keras.layers.Conv2D(128, (5, 5), padding='same', activation='relu'))\n",
    "model.add(keras.layers.MaxPooling2D(pool_size=(2, 2)))\n",
    "model.add(keras.layers.Flatten())\n",
    "model.add(keras.layers.Dense(128, activation='relu'))\n",
    "model.add(keras.layers.Dense(24, activation='softmax'))"
   ]
  },
  {
   "cell_type": "code",
   "execution_count": 17,
   "id": "333da112",
   "metadata": {
    "ExecuteTime": {
     "end_time": "2023-05-27T10:15:03.302858Z",
     "start_time": "2023-05-27T10:15:03.278496Z"
    },
    "scrolled": true
   },
   "outputs": [
    {
     "name": "stdout",
     "output_type": "stream",
     "text": [
      "Model: \"sequential\"\n",
      "_________________________________________________________________\n",
      " Layer (type)                Output Shape              Param #   \n",
      "=================================================================\n",
      " conv2d (Conv2D)             (None, 28, 28, 32)        832       \n",
      "                                                                 \n",
      " max_pooling2d (MaxPooling2  (None, 14, 14, 32)        0         \n",
      " D)                                                              \n",
      "                                                                 \n",
      " conv2d_1 (Conv2D)           (None, 14, 14, 64)        51264     \n",
      "                                                                 \n",
      " max_pooling2d_1 (MaxPoolin  (None, 7, 7, 64)          0         \n",
      " g2D)                                                            \n",
      "                                                                 \n",
      " conv2d_2 (Conv2D)           (None, 7, 7, 128)         204928    \n",
      "                                                                 \n",
      " max_pooling2d_2 (MaxPoolin  (None, 3, 3, 128)         0         \n",
      " g2D)                                                            \n",
      "                                                                 \n",
      " flatten (Flatten)           (None, 1152)              0         \n",
      "                                                                 \n",
      " dense (Dense)               (None, 128)               147584    \n",
      "                                                                 \n",
      " dense_1 (Dense)             (None, 24)                3096      \n",
      "                                                                 \n",
      "=================================================================\n",
      "Total params: 407704 (1.56 MB)\n",
      "Trainable params: 407704 (1.56 MB)\n",
      "Non-trainable params: 0 (0.00 Byte)\n",
      "_________________________________________________________________\n"
     ]
    }
   ],
   "source": [
    "model.summary()"
   ]
  },
  {
   "cell_type": "code",
   "execution_count": 18,
   "id": "9acfb354",
   "metadata": {
    "ExecuteTime": {
     "end_time": "2023-05-27T10:15:04.398576Z",
     "start_time": "2023-05-27T10:15:04.379389Z"
    }
   },
   "outputs": [],
   "source": [
    "model.compile(loss='categorical_crossentropy', optimizer='adam', metrics=['accuracy'])"
   ]
  },
  {
   "cell_type": "code",
   "execution_count": 19,
   "id": "f9ebd211",
   "metadata": {
    "ExecuteTime": {
     "end_time": "2023-05-27T10:15:08.820195Z",
     "start_time": "2023-05-27T10:15:08.808704Z"
    }
   },
   "outputs": [],
   "source": [
    "save_best_cb = keras.callbacks.ModelCheckpoint('models/initial-end-to-end', save_best_only=True) # Saves the best model so far\n",
    "early_stopping_cb = keras.callbacks.EarlyStopping(patience=5) # Interupts training when there is no progress"
   ]
  },
  {
   "cell_type": "code",
   "execution_count": 20,
   "id": "4451f28a",
   "metadata": {
    "ExecuteTime": {
     "end_time": "2023-05-27T10:20:42.846157Z",
     "start_time": "2023-05-27T10:15:09.361813Z"
    },
    "scrolled": true
   },
   "outputs": [
    {
     "name": "stdout",
     "output_type": "stream",
     "text": [
      "Epoch 1/20\n",
      "781/782 [============================>.] - ETA: 0s - loss: 0.9446 - accuracy: 0.7061INFO:tensorflow:Assets written to: models/initial-end-to-end/assets\n"
     ]
    },
    {
     "name": "stderr",
     "output_type": "stream",
     "text": [
      "INFO:tensorflow:Assets written to: models/initial-end-to-end/assets\n"
     ]
    },
    {
     "name": "stdout",
     "output_type": "stream",
     "text": [
      "782/782 [==============================] - 14s 18ms/step - loss: 0.9443 - accuracy: 0.7062 - val_loss: 0.0930 - val_accuracy: 0.9719\n",
      "Epoch 2/20\n",
      "779/782 [============================>.] - ETA: 0s - loss: 0.0266 - accuracy: 0.9939INFO:tensorflow:Assets written to: models/initial-end-to-end/assets\n"
     ]
    },
    {
     "name": "stderr",
     "output_type": "stream",
     "text": [
      "INFO:tensorflow:Assets written to: models/initial-end-to-end/assets\n"
     ]
    },
    {
     "name": "stdout",
     "output_type": "stream",
     "text": [
      "782/782 [==============================] - 15s 19ms/step - loss: 0.0265 - accuracy: 0.9939 - val_loss: 0.0012 - val_accuracy: 1.0000\n",
      "Epoch 3/20\n",
      "780/782 [============================>.] - ETA: 0s - loss: 5.5731e-04 - accuracy: 1.0000INFO:tensorflow:Assets written to: models/initial-end-to-end/assets\n"
     ]
    },
    {
     "name": "stderr",
     "output_type": "stream",
     "text": [
      "INFO:tensorflow:Assets written to: models/initial-end-to-end/assets\n"
     ]
    },
    {
     "name": "stdout",
     "output_type": "stream",
     "text": [
      "782/782 [==============================] - 16s 20ms/step - loss: 5.5724e-04 - accuracy: 1.0000 - val_loss: 3.0416e-04 - val_accuracy: 1.0000\n",
      "Epoch 4/20\n",
      "779/782 [============================>.] - ETA: 0s - loss: 1.9890e-04 - accuracy: 1.0000INFO:tensorflow:Assets written to: models/initial-end-to-end/assets\n"
     ]
    },
    {
     "name": "stderr",
     "output_type": "stream",
     "text": [
      "INFO:tensorflow:Assets written to: models/initial-end-to-end/assets\n"
     ]
    },
    {
     "name": "stdout",
     "output_type": "stream",
     "text": [
      "782/782 [==============================] - 16s 20ms/step - loss: 1.9891e-04 - accuracy: 1.0000 - val_loss: 1.7404e-04 - val_accuracy: 1.0000\n",
      "Epoch 5/20\n",
      "782/782 [==============================] - ETA: 0s - loss: 1.0266e-04 - accuracy: 1.0000INFO:tensorflow:Assets written to: models/initial-end-to-end/assets\n"
     ]
    },
    {
     "name": "stderr",
     "output_type": "stream",
     "text": [
      "INFO:tensorflow:Assets written to: models/initial-end-to-end/assets\n"
     ]
    },
    {
     "name": "stdout",
     "output_type": "stream",
     "text": [
      "782/782 [==============================] - 16s 21ms/step - loss: 1.0266e-04 - accuracy: 1.0000 - val_loss: 8.7968e-05 - val_accuracy: 1.0000\n",
      "Epoch 6/20\n",
      "780/782 [============================>.] - ETA: 0s - loss: 5.7029e-05 - accuracy: 1.0000INFO:tensorflow:Assets written to: models/initial-end-to-end/assets\n"
     ]
    },
    {
     "name": "stderr",
     "output_type": "stream",
     "text": [
      "INFO:tensorflow:Assets written to: models/initial-end-to-end/assets\n"
     ]
    },
    {
     "name": "stdout",
     "output_type": "stream",
     "text": [
      "782/782 [==============================] - 17s 22ms/step - loss: 5.6977e-05 - accuracy: 1.0000 - val_loss: 4.8016e-05 - val_accuracy: 1.0000\n",
      "Epoch 7/20\n",
      "780/782 [============================>.] - ETA: 0s - loss: 3.1650e-05 - accuracy: 1.0000INFO:tensorflow:Assets written to: models/initial-end-to-end/assets\n"
     ]
    },
    {
     "name": "stderr",
     "output_type": "stream",
     "text": [
      "INFO:tensorflow:Assets written to: models/initial-end-to-end/assets\n"
     ]
    },
    {
     "name": "stdout",
     "output_type": "stream",
     "text": [
      "782/782 [==============================] - 17s 22ms/step - loss: 3.1637e-05 - accuracy: 1.0000 - val_loss: 2.6091e-05 - val_accuracy: 1.0000\n",
      "Epoch 8/20\n",
      "782/782 [==============================] - 17s 21ms/step - loss: 0.0866 - accuracy: 0.9767 - val_loss: 0.0106 - val_accuracy: 0.9971\n",
      "Epoch 9/20\n",
      "782/782 [==============================] - 17s 21ms/step - loss: 0.0015 - accuracy: 0.9998 - val_loss: 2.4189e-04 - val_accuracy: 1.0000\n",
      "Epoch 10/20\n",
      "782/782 [==============================] - 17s 22ms/step - loss: 1.3561e-04 - accuracy: 1.0000 - val_loss: 9.9890e-05 - val_accuracy: 1.0000\n",
      "Epoch 11/20\n",
      "782/782 [==============================] - 17s 21ms/step - loss: 6.4638e-05 - accuracy: 1.0000 - val_loss: 4.6156e-05 - val_accuracy: 1.0000\n",
      "Epoch 12/20\n",
      "780/782 [============================>.] - ETA: 0s - loss: 3.2249e-05 - accuracy: 1.0000INFO:tensorflow:Assets written to: models/initial-end-to-end/assets\n"
     ]
    },
    {
     "name": "stderr",
     "output_type": "stream",
     "text": [
      "INFO:tensorflow:Assets written to: models/initial-end-to-end/assets\n"
     ]
    },
    {
     "name": "stdout",
     "output_type": "stream",
     "text": [
      "782/782 [==============================] - 18s 22ms/step - loss: 3.2211e-05 - accuracy: 1.0000 - val_loss: 2.4557e-05 - val_accuracy: 1.0000\n",
      "Epoch 13/20\n",
      "782/782 [==============================] - ETA: 0s - loss: 1.7479e-05 - accuracy: 1.0000INFO:tensorflow:Assets written to: models/initial-end-to-end/assets\n"
     ]
    },
    {
     "name": "stderr",
     "output_type": "stream",
     "text": [
      "INFO:tensorflow:Assets written to: models/initial-end-to-end/assets\n"
     ]
    },
    {
     "name": "stdout",
     "output_type": "stream",
     "text": [
      "782/782 [==============================] - 17s 22ms/step - loss: 1.7479e-05 - accuracy: 1.0000 - val_loss: 1.4320e-05 - val_accuracy: 1.0000\n",
      "Epoch 14/20\n",
      "782/782 [==============================] - ETA: 0s - loss: 1.0244e-05 - accuracy: 1.0000INFO:tensorflow:Assets written to: models/initial-end-to-end/assets\n"
     ]
    },
    {
     "name": "stderr",
     "output_type": "stream",
     "text": [
      "INFO:tensorflow:Assets written to: models/initial-end-to-end/assets\n"
     ]
    },
    {
     "name": "stdout",
     "output_type": "stream",
     "text": [
      "782/782 [==============================] - 17s 22ms/step - loss: 1.0244e-05 - accuracy: 1.0000 - val_loss: 8.2942e-06 - val_accuracy: 1.0000\n",
      "Epoch 15/20\n",
      "779/782 [============================>.] - ETA: 0s - loss: 6.2720e-06 - accuracy: 1.0000INFO:tensorflow:Assets written to: models/initial-end-to-end/assets\n"
     ]
    },
    {
     "name": "stderr",
     "output_type": "stream",
     "text": [
      "INFO:tensorflow:Assets written to: models/initial-end-to-end/assets\n"
     ]
    },
    {
     "name": "stdout",
     "output_type": "stream",
     "text": [
      "782/782 [==============================] - 17s 22ms/step - loss: 6.2663e-06 - accuracy: 1.0000 - val_loss: 5.2756e-06 - val_accuracy: 1.0000\n",
      "Epoch 16/20\n",
      "781/782 [============================>.] - ETA: 0s - loss: 3.8904e-06 - accuracy: 1.0000INFO:tensorflow:Assets written to: models/initial-end-to-end/assets\n"
     ]
    },
    {
     "name": "stderr",
     "output_type": "stream",
     "text": [
      "INFO:tensorflow:Assets written to: models/initial-end-to-end/assets\n"
     ]
    },
    {
     "name": "stdout",
     "output_type": "stream",
     "text": [
      "782/782 [==============================] - 17s 22ms/step - loss: 3.8912e-06 - accuracy: 1.0000 - val_loss: 3.3318e-06 - val_accuracy: 1.0000\n",
      "Epoch 17/20\n",
      "782/782 [==============================] - ETA: 0s - loss: 2.5278e-06 - accuracy: 1.0000INFO:tensorflow:Assets written to: models/initial-end-to-end/assets\n"
     ]
    },
    {
     "name": "stderr",
     "output_type": "stream",
     "text": [
      "INFO:tensorflow:Assets written to: models/initial-end-to-end/assets\n"
     ]
    },
    {
     "name": "stdout",
     "output_type": "stream",
     "text": [
      "782/782 [==============================] - 17s 22ms/step - loss: 2.5278e-06 - accuracy: 1.0000 - val_loss: 2.3224e-06 - val_accuracy: 1.0000\n",
      "Epoch 18/20\n",
      "782/782 [==============================] - ETA: 0s - loss: 1.6601e-06 - accuracy: 1.0000INFO:tensorflow:Assets written to: models/initial-end-to-end/assets\n"
     ]
    },
    {
     "name": "stderr",
     "output_type": "stream",
     "text": [
      "INFO:tensorflow:Assets written to: models/initial-end-to-end/assets\n"
     ]
    },
    {
     "name": "stdout",
     "output_type": "stream",
     "text": [
      "782/782 [==============================] - 17s 22ms/step - loss: 1.6601e-06 - accuracy: 1.0000 - val_loss: 1.4544e-06 - val_accuracy: 1.0000\n",
      "Epoch 19/20\n",
      "782/782 [==============================] - ETA: 0s - loss: 1.0624e-06 - accuracy: 1.0000INFO:tensorflow:Assets written to: models/initial-end-to-end/assets\n"
     ]
    },
    {
     "name": "stderr",
     "output_type": "stream",
     "text": [
      "INFO:tensorflow:Assets written to: models/initial-end-to-end/assets\n"
     ]
    },
    {
     "name": "stdout",
     "output_type": "stream",
     "text": [
      "782/782 [==============================] - 17s 22ms/step - loss: 1.0624e-06 - accuracy: 1.0000 - val_loss: 1.1080e-06 - val_accuracy: 1.0000\n",
      "Epoch 20/20\n",
      "781/782 [============================>.] - ETA: 0s - loss: 6.9362e-07 - accuracy: 1.0000INFO:tensorflow:Assets written to: models/initial-end-to-end/assets\n"
     ]
    },
    {
     "name": "stderr",
     "output_type": "stream",
     "text": [
      "INFO:tensorflow:Assets written to: models/initial-end-to-end/assets\n"
     ]
    },
    {
     "name": "stdout",
     "output_type": "stream",
     "text": [
      "\b\b\b\b\b\b\b\b\b\b\b\b\b\b\b\b\b\b\b\b\b\b\b\b\b\b\b\b\b\b\b\b\b\b\b\b\b\b\b\b\b\b\b\b\b\b\b\b\b\b\b\b\b\b\b\b\b\b\b\b\b\b\b\b\b\b\b\b\b\b\b\b\b\b\b\b\b\b\b\b\b\b\b\b\b\b\b\b\r",
      "782/782 [==============================] - 17s 22ms/step - loss: 6.9349e-07 - accuracy: 1.0000 - val_loss: 6.2416e-07 - val_accuracy: 1.0000\n"
     ]
    }
   ],
   "source": [
    "# The model is same is 'models/initial-end-to-end'\n",
    "# The history object is 'models/initial-end-to-end-history'\n",
    "\n",
    "history = model.fit(X_train, y_train, epochs=20, validation_data=(X_valid, y_valid), callbacks=[save_best_cb, early_stopping_cb])"
   ]
  },
  {
   "cell_type": "code",
   "execution_count": 21,
   "id": "c5e12a49",
   "metadata": {
    "ExecuteTime": {
     "end_time": "2023-05-27T10:20:53.418906Z",
     "start_time": "2023-05-27T10:20:53.409678Z"
    },
    "scrolled": true
   },
   "outputs": [
    {
     "data": {
      "text/plain": [
       "{'loss': [0.9443209171295166,\n",
       "  0.02653968520462513,\n",
       "  0.0005572430673055351,\n",
       "  0.00019891237025149167,\n",
       "  0.00010265611490467563,\n",
       "  5.69770963920746e-05,\n",
       "  3.163732617394999e-05,\n",
       "  0.08656179904937744,\n",
       "  0.0014982686843723059,\n",
       "  0.00013560711522586644,\n",
       "  6.463768659159541e-05,\n",
       "  3.221083534299396e-05,\n",
       "  1.7478552763350308e-05,\n",
       "  1.0244237273582257e-05,\n",
       "  6.266319815040333e-06,\n",
       "  3.8911839510547e-06,\n",
       "  2.527752258174587e-06,\n",
       "  1.660130465097609e-06,\n",
       "  1.0623951993693481e-06,\n",
       "  6.934874363651033e-07],\n",
       " 'accuracy': [0.7062000036239624,\n",
       "  0.9938799738883972,\n",
       "  1.0,\n",
       "  1.0,\n",
       "  1.0,\n",
       "  1.0,\n",
       "  1.0,\n",
       "  0.9767199754714966,\n",
       "  0.9997599720954895,\n",
       "  1.0,\n",
       "  1.0,\n",
       "  1.0,\n",
       "  1.0,\n",
       "  1.0,\n",
       "  1.0,\n",
       "  1.0,\n",
       "  1.0,\n",
       "  1.0,\n",
       "  1.0,\n",
       "  1.0],\n",
       " 'val_loss': [0.09302385151386261,\n",
       "  0.0011876811040565372,\n",
       "  0.00030415813671424985,\n",
       "  0.00017403563833795488,\n",
       "  8.796813199296594e-05,\n",
       "  4.8016474465839565e-05,\n",
       "  2.609121111163404e-05,\n",
       "  0.010625208728015423,\n",
       "  0.00024188956012949347,\n",
       "  9.989018872147426e-05,\n",
       "  4.6155721065588295e-05,\n",
       "  2.4557450160500593e-05,\n",
       "  1.4319773072202224e-05,\n",
       "  8.294211511383764e-06,\n",
       "  5.275584044284187e-06,\n",
       "  3.3317921861453215e-06,\n",
       "  2.322371074114926e-06,\n",
       "  1.4544280020345468e-06,\n",
       "  1.1079744126618607e-06,\n",
       "  6.241569963094662e-07],\n",
       " 'val_accuracy': [0.9718940854072571,\n",
       "  1.0,\n",
       "  1.0,\n",
       "  1.0,\n",
       "  1.0,\n",
       "  1.0,\n",
       "  1.0,\n",
       "  0.9971486926078796,\n",
       "  1.0,\n",
       "  1.0,\n",
       "  1.0,\n",
       "  1.0,\n",
       "  1.0,\n",
       "  1.0,\n",
       "  1.0,\n",
       "  1.0,\n",
       "  1.0,\n",
       "  1.0,\n",
       "  1.0,\n",
       "  1.0]}"
      ]
     },
     "execution_count": 21,
     "metadata": {},
     "output_type": "execute_result"
    }
   ],
   "source": [
    "history.history # Contains the training related information for each epoch"
   ]
  },
  {
   "cell_type": "code",
   "execution_count": 22,
   "id": "c3aa7673",
   "metadata": {
    "ExecuteTime": {
     "end_time": "2023-05-27T10:20:55.962668Z",
     "start_time": "2023-05-27T10:20:55.956395Z"
    }
   },
   "outputs": [],
   "source": [
    "# Saving the history object\n",
    "\n",
    "# with open('models/intial-end-to-end-history', 'wb') as history_file:\n",
    "#     pickle.dump(history.history, history_file)"
   ]
  },
  {
   "cell_type": "code",
   "execution_count": 23,
   "id": "acc714c0",
   "metadata": {
    "ExecuteTime": {
     "end_time": "2023-05-27T10:20:56.835989Z",
     "start_time": "2023-05-27T10:20:56.825412Z"
    },
    "scrolled": true
   },
   "outputs": [
    {
     "data": {
      "text/plain": [
       "{'loss': [0.8774073719978333,\n",
       "  0.005074513144791126,\n",
       "  0.0005907623562961817,\n",
       "  0.035671062767505646,\n",
       "  0.00012915894330944866,\n",
       "  6.119009776739404e-05,\n",
       "  3.5120148822898045e-05,\n",
       "  2.134285750798881e-05,\n",
       "  1.3638154086947907e-05,\n",
       "  8.999433703138493e-06,\n",
       "  5.808890364278341e-06,\n",
       "  3.864049176627304e-06,\n",
       "  2.576162614786881e-06,\n",
       "  1.7137577970061102e-06,\n",
       "  1.1716660992533434e-06,\n",
       "  7.670482204957807e-07,\n",
       "  5.091210937280266e-07,\n",
       "  3.424441104016296e-07,\n",
       "  2.2814701594597864e-07,\n",
       "  1.518342855888477e-07],\n",
       " 'accuracy': [0.7325999736785889,\n",
       "  0.9993600249290466,\n",
       "  1.0,\n",
       "  0.9892799854278564,\n",
       "  1.0,\n",
       "  1.0,\n",
       "  1.0,\n",
       "  1.0,\n",
       "  1.0,\n",
       "  1.0,\n",
       "  1.0,\n",
       "  1.0,\n",
       "  1.0,\n",
       "  1.0,\n",
       "  1.0,\n",
       "  1.0,\n",
       "  1.0,\n",
       "  1.0,\n",
       "  1.0,\n",
       "  1.0],\n",
       " 'val_loss': [0.02665344439446926,\n",
       "  0.0010351891396567225,\n",
       "  0.0004752879322040826,\n",
       "  0.00024525265325792134,\n",
       "  0.00010227379971183836,\n",
       "  5.5580920161446556e-05,\n",
       "  3.293823101557791e-05,\n",
       "  2.091940950776916e-05,\n",
       "  1.3808692528982647e-05,\n",
       "  8.840480404614937e-06,\n",
       "  5.666528068104526e-06,\n",
       "  3.9937822293723e-06,\n",
       "  2.64862956100842e-06,\n",
       "  1.8130501757696038e-06,\n",
       "  1.2420367738741334e-06,\n",
       "  8.05462889275077e-07,\n",
       "  5.323349228092411e-07,\n",
       "  4.007931124760944e-07,\n",
       "  2.907113696437591e-07,\n",
       "  1.6800919411252835e-07],\n",
       " 'val_accuracy': [0.9934827089309692,\n",
       "  1.0,\n",
       "  1.0,\n",
       "  1.0,\n",
       "  1.0,\n",
       "  1.0,\n",
       "  1.0,\n",
       "  1.0,\n",
       "  1.0,\n",
       "  1.0,\n",
       "  1.0,\n",
       "  1.0,\n",
       "  1.0,\n",
       "  1.0,\n",
       "  1.0,\n",
       "  1.0,\n",
       "  1.0,\n",
       "  1.0,\n",
       "  1.0,\n",
       "  1.0]}"
      ]
     },
     "execution_count": 23,
     "metadata": {},
     "output_type": "execute_result"
    }
   ],
   "source": [
    "h = np.load('models/intial-end-to-end-history', allow_pickle=True)\n",
    "h"
   ]
  },
  {
   "cell_type": "code",
   "execution_count": 24,
   "id": "96517c3b",
   "metadata": {
    "ExecuteTime": {
     "end_time": "2023-05-27T10:21:02.516216Z",
     "start_time": "2023-05-27T10:21:02.347289Z"
    }
   },
   "outputs": [],
   "source": [
    "best_model = keras.models.load_model('models/initial-end-to-end') # Model with best set of parameters not necessarily the model at the last epoch of training"
   ]
  },
  {
   "cell_type": "code",
   "execution_count": 25,
   "id": "94301555",
   "metadata": {
    "ExecuteTime": {
     "end_time": "2023-05-27T10:21:03.139527Z",
     "start_time": "2023-05-27T10:21:03.010575Z"
    }
   },
   "outputs": [
    {
     "data": {
      "text/plain": [
       "<matplotlib.legend.Legend at 0x29198ae90>"
      ]
     },
     "execution_count": 25,
     "metadata": {},
     "output_type": "execute_result"
    },
    {
     "data": {
      "image/png": "[encoded data removed]",
      "text/plain": [
       "<Figure size 1000x500 with 1 Axes>"
      ]
     },
     "metadata": {},
     "output_type": "display_data"
    }
   ],
   "source": [
    "fig, ax = plt.subplots(figsize=(10, 5))\n",
    "n_epochs = len(h['loss'])\n",
    "ax.plot(range(1, n_epochs+1), h['loss'], color='b', label='train_loss')\n",
    "ax.plot(range(1, n_epochs+1), h['val_loss'], color='c', label='val_loss')\n",
    "ax.plot(range(1, n_epochs+1), h['accuracy'], color='b', label='train_accuracy', linestyle='--')\n",
    "ax.plot(range(1, n_epochs+1), h['val_accuracy'], color='c', label='val_accuracy', linestyle='--')\n",
    "ax.set_xticks(range(1, n_epochs+1))\n",
    "ax.legend()"
   ]
  },
  {
   "cell_type": "code",
   "execution_count": 26,
   "id": "1cceeb24",
   "metadata": {
    "ExecuteTime": {
     "end_time": "2023-05-27T10:21:05.418776Z",
     "start_time": "2023-05-27T10:21:05.278651Z"
    }
   },
   "outputs": [
    {
     "data": {
      "text/plain": [
       "<matplotlib.legend.Legend at 0x291e84e50>"
      ]
     },
     "execution_count": 26,
     "metadata": {},
     "output_type": "execute_result"
    },
    {
     "data": {
      "image/png": "[encoded data removed]",
      "text/plain": [
       "<Figure size 1000x500 with 1 Axes>"
      ]
     },
     "metadata": {},
     "output_type": "display_data"
    }
   ],
   "source": [
    "# Training Loss Correction\n",
    "\n",
    "fig, ax = plt.subplots(figsize=(10, 5))\n",
    "n_epochs = len(h['loss'])\n",
    "\n",
    "# Shift training loss by 0.5 as training loss is measured during the epoch and validation loss is measured after the epoch\n",
    "\n",
    "x_loss = np.arange(n_epochs+1)-0.5\n",
    "ax.plot(x_loss[x_loss >= 0], h['loss'], color='b', label='train_loss')\n",
    "ax.plot(range(1, n_epochs+1), h['val_loss'], color='r', label='val_loss')\n",
    "ax.plot(range(1, n_epochs+1), h['accuracy'], color='b', label='train_accuracy', linestyle='--')\n",
    "ax.plot(range(1, n_epochs+1), h['val_accuracy'], color='r', label='val_accuracy', linestyle='--')\n",
    "ax.set_xlim(0, n_epochs)\n",
    "ax.set_xticks(range(1, n_epochs+1))\n",
    "ax.legend()"
   ]
  },
  {
   "cell_type": "code",
   "execution_count": 27,
   "id": "b7e5d4b0",
   "metadata": {
    "ExecuteTime": {
     "end_time": "2023-05-27T10:21:06.336669Z",
     "start_time": "2023-05-27T10:21:06.323891Z"
    }
   },
   "outputs": [],
   "source": [
    "# Defining a function the get the training and validation plots representing the accuracy and loss at each epoch\n",
    "\n",
    "def get_train_val_plots(h, yticks=None, figsize=(10, 5)):\n",
    "    # h: Any dictionary like the history.history\n",
    "    \n",
    "    fig, ax = plt.subplots(figsize=figsize)\n",
    "    n_epochs = len(h['loss'])\n",
    "    x_loss = np.arange(n_epochs+1)-0.5\n",
    "    \n",
    "    ax.plot(x_loss[x_loss >= 0], h['loss'], color='b', label='train_loss')\n",
    "    ax.plot(range(1, n_epochs+1), h['val_loss'], color='r', label='val_loss')\n",
    "    ax.plot(range(1, n_epochs+1), h['accuracy'], color='b', label='train_accuracy', linestyle='--')\n",
    "    ax.plot(range(1, n_epochs+1), h['val_accuracy'], color='r', label='val_accuracy', linestyle='--')\n",
    "    ax.set_xlim(0, n_epochs)\n",
    "    ax.set_xticks(range(1, n_epochs+1))\n",
    "    if yticks is not None:\n",
    "        ax.set_yticks(yticks)\n",
    "    ax.legend()"
   ]
  },
  {
   "cell_type": "code",
   "execution_count": 28,
   "id": "6f1885f7",
   "metadata": {
    "ExecuteTime": {
     "end_time": "2023-05-27T10:21:07.762230Z",
     "start_time": "2023-05-27T10:21:07.635934Z"
    }
   },
   "outputs": [
    {
     "data": {
      "image/png": "[encoded data removed]",
      "text/plain": [
       "<Figure size 1000x500 with 1 Axes>"
      ]
     },
     "metadata": {},
     "output_type": "display_data"
    }
   ],
   "source": [
    "get_train_val_plots(h)"
   ]
  },
  {
   "cell_type": "code",
   "execution_count": 29,
   "id": "aadf9622",
   "metadata": {
    "ExecuteTime": {
     "end_time": "2023-05-27T10:21:08.783131Z",
     "start_time": "2023-05-27T10:21:08.538630Z"
    }
   },
   "outputs": [],
   "source": [
    "test_df = pd.read_csv('data/alphabet/sign_mnist_test.csv') # Load the test data"
   ]
  },
  {
   "cell_type": "code",
   "execution_count": 30,
   "id": "c22ee404",
   "metadata": {
    "ExecuteTime": {
     "end_time": "2023-05-27T10:21:09.145368Z",
     "start_time": "2023-05-27T10:21:09.120730Z"
    }
   },
   "outputs": [],
   "source": [
    "X_test, y_test = test_df.drop('label', axis=1), test_df['label']"
   ]
  },
  {
   "cell_type": "code",
   "execution_count": 31,
   "id": "50fcf741",
   "metadata": {
    "ExecuteTime": {
     "end_time": "2023-05-27T10:21:09.892015Z",
     "start_time": "2023-05-27T10:21:09.857403Z"
    }
   },
   "outputs": [],
   "source": [
    "X_test = tf.reshape(X_test, [-1, 28, 28, 1])"
   ]
  },
  {
   "cell_type": "code",
   "execution_count": 32,
   "id": "04d31bf4",
   "metadata": {
    "ExecuteTime": {
     "end_time": "2023-05-27T10:21:10.438220Z",
     "start_time": "2023-05-27T10:21:10.426674Z"
    }
   },
   "outputs": [],
   "source": [
    "y_test = label_binarizer.transform(y_test)"
   ]
  },
  {
   "cell_type": "code",
   "execution_count": 33,
   "id": "4c761190",
   "metadata": {
    "ExecuteTime": {
     "end_time": "2023-05-27T10:21:13.288614Z",
     "start_time": "2023-05-27T10:21:11.146655Z"
    },
    "scrolled": true
   },
   "outputs": [
    {
     "name": "stdout",
     "output_type": "stream",
     "text": [
      "225/225 [==============================] - 2s 9ms/step - loss: 117.7478 - accuracy: 0.9057\n"
     ]
    },
    {
     "data": {
      "text/plain": [
       "[117.7477798461914, 0.9057445526123047]"
      ]
     },
     "execution_count": 33,
     "metadata": {},
     "output_type": "execute_result"
    }
   ],
   "source": [
    "best_model.evaluate(X_test, y_test)"
   ]
  },
  {
   "cell_type": "markdown",
   "id": "9085b7ff",
   "metadata": {},
   "source": [
    "Accuracy: 94%"
   ]
  },
  {
   "cell_type": "code",
   "execution_count": 34,
   "id": "685402ff",
   "metadata": {
    "ExecuteTime": {
     "end_time": "2023-05-27T10:21:15.761388Z",
     "start_time": "2023-05-27T10:21:15.753140Z"
    }
   },
   "outputs": [],
   "source": [
    "# Preprocesses the input and evaluates the model\n",
    "\n",
    "def evaluate_model(model, X_test, y_test, label_binarizer):\n",
    "    X_test_reshape = tf.reshape(X_test, [-1, 28, 28, 1])\n",
    "    y_test_labels = label_binarizer.transform(y_test)\n",
    "    results = model.evaluate(X_test_reshape, y_test_labels)\n",
    "    print(f'Loss: {results[0]:.3f} Accuracy: {results[1]:.3f}')"
   ]
  },
  {
   "cell_type": "code",
   "execution_count": 35,
   "id": "af272eed",
   "metadata": {
    "ExecuteTime": {
     "end_time": "2023-05-27T10:21:19.450007Z",
     "start_time": "2023-05-27T10:21:17.440874Z"
    }
   },
   "outputs": [
    {
     "name": "stdout",
     "output_type": "stream",
     "text": [
      "225/225 [==============================] - 2s 9ms/step - loss: 117.7478 - accuracy: 0.9057\n",
      "Loss: 117.748 Accuracy: 0.906\n"
     ]
    }
   ],
   "source": [
    "results = evaluate_model(best_model, test_df.drop('label', axis=1), test_df['label'], label_binarizer)"
   ]
  },
  {
   "cell_type": "markdown",
   "id": "3edb545c",
   "metadata": {},
   "source": [
    "## Converting Images to a Sentence"
   ]
  },
  {
   "cell_type": "code",
   "execution_count": 36,
   "id": "70c6d7cf",
   "metadata": {
    "ExecuteTime": {
     "end_time": "2023-05-27T10:21:21.130847Z",
     "start_time": "2023-05-27T10:21:20.894025Z"
    }
   },
   "outputs": [],
   "source": [
    "test_df = pd.read_csv('data/alphabet/sign_mnist_test.csv') # Load the test data"
   ]
  },
  {
   "cell_type": "code",
   "execution_count": 37,
   "id": "fcf80126",
   "metadata": {
    "ExecuteTime": {
     "end_time": "2023-05-27T10:21:21.712264Z",
     "start_time": "2023-05-27T10:21:21.688371Z"
    }
   },
   "outputs": [],
   "source": [
    "X_test, y_test = test_df.drop('label', axis=1), test_df['label']"
   ]
  },
  {
   "cell_type": "code",
   "execution_count": 38,
   "id": "c01b2e70",
   "metadata": {
    "ExecuteTime": {
     "end_time": "2023-05-27T10:21:22.346201Z",
     "start_time": "2023-05-27T10:21:22.319350Z"
    }
   },
   "outputs": [],
   "source": [
    "X_test = tf.reshape(X_test, [-1, 28, 28, 1])"
   ]
  },
  {
   "cell_type": "code",
   "execution_count": 39,
   "id": "92beca5f",
   "metadata": {
    "ExecuteTime": {
     "end_time": "2023-05-27T10:21:23.354351Z",
     "start_time": "2023-05-27T10:21:23.346851Z"
    }
   },
   "outputs": [],
   "source": [
    "d = {chr(ord('a') + i):i for i in range(26)}\n",
    "d_rev = {i:chr(ord('a') + i) for i in range(26)}\n",
    "d[' '] = d_rev[' '] = ' '"
   ]
  },
  {
   "cell_type": "code",
   "execution_count": 40,
   "id": "4e7518e4",
   "metadata": {
    "ExecuteTime": {
     "end_time": "2023-05-27T10:21:24.174644Z",
     "start_time": "2023-05-27T10:21:24.167304Z"
    }
   },
   "outputs": [
    {
     "name": "stdout",
     "output_type": "stream",
     "text": [
      "18 8 6 13   11 0 13 6 20 0 6 4 "
     ]
    }
   ],
   "source": [
    "sentence = 'sign language'\n",
    "\n",
    "for i in sentence:\n",
    "    print(d[i], end=' ')"
   ]
  },
  {
   "cell_type": "code",
   "execution_count": 41,
   "id": "4f429ea0",
   "metadata": {
    "ExecuteTime": {
     "end_time": "2023-05-27T10:21:25.451910Z",
     "start_time": "2023-05-27T10:21:25.357755Z"
    }
   },
   "outputs": [
    {
     "name": "stdout",
     "output_type": "stream",
     "text": [
      "1/1 [==============================] - 0s 49ms/step\n"
     ]
    },
    {
     "data": {
      "text/plain": [
       "array([[0., 0., 0., 0., 0., 0., 1., 0., 0., 0., 0., 0., 0., 0., 0., 0.,\n",
       "        0., 0., 0., 0., 0., 0., 0., 0.]], dtype=float32)"
      ]
     },
     "execution_count": 41,
     "metadata": {},
     "output_type": "execute_result"
    }
   ],
   "source": [
    "best_model.predict(tf.reshape(X_test[0], [-1, 28, 28, 1]))"
   ]
  },
  {
   "cell_type": "code",
   "execution_count": 42,
   "id": "2f09fb2d",
   "metadata": {
    "ExecuteTime": {
     "end_time": "2023-05-27T10:21:27.234394Z",
     "start_time": "2023-05-27T10:21:26.934878Z"
    }
   },
   "outputs": [
    {
     "name": "stdout",
     "output_type": "stream",
     "text": [
      "1/1 [==============================] - 0s 14ms/step\n",
      "1/1 [==============================] - 0s 12ms/step\n",
      "1/1 [==============================] - 0s 9ms/step\n",
      "1/1 [==============================] - 0s 9ms/step\n",
      "1/1 [==============================] - 0s 10ms/step\n",
      "1/1 [==============================] - 0s 10ms/step\n",
      "1/1 [==============================] - 0s 10ms/step\n",
      "1/1 [==============================] - 0s 9ms/step\n",
      "1/1 [==============================] - 0s 10ms/step\n",
      "1/1 [==============================] - 0s 10ms/step\n",
      "1/1 [==============================] - 0s 10ms/step\n",
      "1/1 [==============================] - 0s 9ms/step\n",
      "sigs langkage\n"
     ]
    }
   ],
   "source": [
    "images_taken = []\n",
    "result = ''\n",
    "\n",
    "for i in sentence:\n",
    "    if i != ' ':\n",
    "        char_index = np.random.choice(y_test[y_test==ord(i)-ord('a')].index)\n",
    "        images_taken.append(char_index)\n",
    "        y_pred = best_model.predict(tf.reshape(X_test[char_index], [-1, 28, 28, 1]))\n",
    "        result += d_rev[label_binarizer.inverse_transform(y_pred)[0]]\n",
    "    else:\n",
    "        result += ' '\n",
    "print(result)"
   ]
  },
  {
   "cell_type": "code",
   "execution_count": 43,
   "id": "f19190d7",
   "metadata": {
    "ExecuteTime": {
     "end_time": "2023-05-27T10:21:28.865661Z",
     "start_time": "2023-05-27T10:21:28.225541Z"
    },
    "scrolled": false
   },
   "outputs": [
    {
     "data": {
      "image/png": "[encoded data removed]",
      "text/plain": [
       "<Figure size 2000x2000 with 4 Axes>"
      ]
     },
     "metadata": {},
     "output_type": "display_data"
    },
    {
     "data": {
      "image/png": "[encoded data removed]",
      "text/plain": [
       "<Figure size 2000x2000 with 8 Axes>"
      ]
     },
     "metadata": {},
     "output_type": "display_data"
    }
   ],
   "source": [
    "# Visualizing the test images\n",
    "images_taken_dup = list(reversed(images_taken))\n",
    "for word in sentence.split():\n",
    "    fig, ax = plt.subplots(1, len(word), figsize=(20, 20))\n",
    "    for i in range(len(word)):\n",
    "        ax[i].imshow(X_test[images_taken_dup.pop()], cmap='gray')\n",
    "        ax[i].set_title(word[i])"
   ]
  },
  {
   "cell_type": "code",
   "execution_count": 44,
   "id": "fd0be37f",
   "metadata": {
    "ExecuteTime": {
     "end_time": "2023-05-27T10:21:29.146449Z",
     "start_time": "2023-05-27T10:21:29.131119Z"
    }
   },
   "outputs": [],
   "source": [
    "def test_on_sentence(model, sentence, X_test, y_test, label_binarizer, figsize=(20, 20)):\n",
    "    # Random images are taken from X_test along with the corresponding labels in y_test\n",
    "    # based on the letters in the sentence.\n",
    "    # These images are fed to the model and its output is printed\n",
    "    \n",
    "    sentence = sentence.lower()\n",
    "    \n",
    "    d = {chr(ord('a') + i):i for i in range(26)}\n",
    "    d_rev = {i:chr(ord('a') + i) for i in range(26)}\n",
    "    d[' '] = d_rev[' '] = ' '\n",
    "    \n",
    "    \n",
    "    images_taken = []\n",
    "    result = ''\n",
    "    \n",
    "    X_test_reshape = tf.reshape(X_test, [-1, 28, 28, 1])\n",
    "    \n",
    "\n",
    "    for i in sentence:\n",
    "        if i != ' ':\n",
    "            char_index = np.random.choice(y_test[y_test==ord(i)-ord('a')].index)\n",
    "            images_taken.append(char_index)\n",
    "            y_pred = model.predict(tf.reshape(X_test_reshape[char_index], [1, 28, 28, 1]))\n",
    "            result += d_rev[label_binarizer.inverse_transform(y_pred)[0]]\n",
    "        else:\n",
    "            result += ' '\n",
    "            \n",
    "    print(f'The actual sentence is \"{sentence}\"')\n",
    "    print(f'The predicted sentence is \"{result}\"')\n",
    "        \n",
    "    images_taken.reverse()\n",
    "    for word in sentence.split():\n",
    "        fig, ax = plt.subplots(1, len(word), figsize=figsize)\n",
    "        for i in range(len(word)):\n",
    "            ax[i].imshow(X_test_reshape[images_taken.pop()], cmap='gray')\n",
    "            ax[i].set_title(word[i])"
   ]
  },
  {
   "cell_type": "code",
   "execution_count": 45,
   "id": "d8c07946",
   "metadata": {
    "ExecuteTime": {
     "end_time": "2023-05-27T10:21:31.070337Z",
     "start_time": "2023-05-27T10:21:30.228031Z"
    }
   },
   "outputs": [
    {
     "name": "stdout",
     "output_type": "stream",
     "text": [
      "1/1 [==============================] - 0s 21ms/step\n",
      "1/1 [==============================] - 0s 12ms/step\n",
      "1/1 [==============================] - 0s 10ms/step\n",
      "1/1 [==============================] - 0s 10ms/step\n",
      "1/1 [==============================] - 0s 11ms/step\n",
      "1/1 [==============================] - 0s 10ms/step\n",
      "1/1 [==============================] - 0s 10ms/step\n",
      "1/1 [==============================] - 0s 9ms/step\n",
      "1/1 [==============================] - 0s 9ms/step\n",
      "1/1 [==============================] - 0s 10ms/step\n",
      "1/1 [==============================] - 0s 10ms/step\n",
      "1/1 [==============================] - 0s 9ms/step\n",
      "The actual sentence is \"sign language\"\n",
      "The predicted sentence is \"mign language\"\n"
     ]
    },
    {
     "data": {
      "image/png": "[encoded data removed]",
      "text/plain": [
       "<Figure size 2000x2000 with 4 Axes>"
      ]
     },
     "metadata": {},
     "output_type": "display_data"
    },
    {
     "data": {
      "image/png": "[encoded data removed]",
      "text/plain": [
       "<Figure size 2000x2000 with 8 Axes>"
      ]
     },
     "metadata": {},
     "output_type": "display_data"
    }
   ],
   "source": [
    "test_on_sentence(best_model, 'sign language', test_df.drop('label', axis=1), test_df['label'], label_binarizer)"
   ]
  },
  {
   "cell_type": "markdown",
   "id": "d9b0ecea",
   "metadata": {},
   "source": [
    "# Initial End-to-End Workflow (End)"
   ]
  },
  {
   "cell_type": "markdown",
   "id": "b127a589",
   "metadata": {},
   "source": [
    "# Hyperparameter Tuning"
   ]
  },
  {
   "cell_type": "markdown",
   "id": "2d26fb0e",
   "metadata": {},
   "source": [
    "1. Convolution and Max Pooling Pairs\n",
    "2. Filters in the convolution layers\n",
    "3. Filter Shape\n",
    "4. Dropout"
   ]
  },
  {
   "cell_type": "markdown",
   "id": "393e2a7f",
   "metadata": {},
   "source": [
    "## Convolution and Max Pooling Pairs"
   ]
  },
  {
   "cell_type": "markdown",
   "id": "640290aa",
   "metadata": {},
   "source": [
    "Before flattening\n",
    "\n",
    "\n",
    "1. For pair = 1 -> Output to the dense layer will be of the shape `(None, 14, 14, 32)`\n",
    "2. For pair = 2 -> Output to the dense layer will be of the shape `(None, 7, 7, 64)`\n",
    "3. For pair = 3 -> Output to the dense layer will be of the shape `(None, 3, 3, 96)`\n",
    "4. For pair = 4 -> Output to the dense layer will be of the shape `(None, 1, 1, 128)`\n",
    "\n",
    "As the output shape rapidly decreases for the pair = 4 it is better to choose among the pair = 1, 2 or 3"
   ]
  },
  {
   "cell_type": "code",
   "execution_count": 46,
   "id": "1f392588",
   "metadata": {
    "ExecuteTime": {
     "end_time": "2023-05-27T10:21:42.001829Z",
     "start_time": "2023-05-27T10:21:41.986538Z"
    }
   },
   "outputs": [],
   "source": [
    "# 20% Validation Split\n",
    "\n",
    "X_train, X_valid = X[:19500], X[19500:]\n",
    "y_train, y_valid = y[:19500], y[19500:]"
   ]
  },
  {
   "cell_type": "code",
   "execution_count": 47,
   "id": "e5583291",
   "metadata": {
    "ExecuteTime": {
     "end_time": "2023-05-27T10:29:17.207040Z",
     "start_time": "2023-05-27T10:21:42.931738Z"
    },
    "scrolled": true
   },
   "outputs": [
    {
     "name": "stdout",
     "output_type": "stream",
     "text": [
      "Epoch 1/15\n",
      "607/610 [============================>.] - ETA: 0s - loss: 1.2241 - accuracy: 0.6641INFO:tensorflow:Assets written to: models/experiment-1-1/assets\n"
     ]
    },
    {
     "name": "stderr",
     "output_type": "stream",
     "text": [
      "INFO:tensorflow:Assets written to: models/experiment-1-1/assets\n"
     ]
    },
    {
     "name": "stdout",
     "output_type": "stream",
     "text": [
      "610/610 [==============================] - 7s 10ms/step - loss: 1.2206 - accuracy: 0.6650 - val_loss: 0.3658 - val_accuracy: 0.8940\n",
      "Epoch 2/15\n",
      "603/610 [============================>.] - ETA: 0s - loss: 0.1757 - accuracy: 0.9662INFO:tensorflow:Assets written to: models/experiment-1-1/assets\n"
     ]
    },
    {
     "name": "stderr",
     "output_type": "stream",
     "text": [
      "INFO:tensorflow:Assets written to: models/experiment-1-1/assets\n"
     ]
    },
    {
     "name": "stdout",
     "output_type": "stream",
     "text": [
      "610/610 [==============================] - 6s 10ms/step - loss: 0.1747 - accuracy: 0.9666 - val_loss: 0.0732 - val_accuracy: 0.9946\n",
      "Epoch 3/15\n",
      "609/610 [============================>.] - ETA: 0s - loss: 0.0401 - accuracy: 0.9983INFO:tensorflow:Assets written to: models/experiment-1-1/assets\n"
     ]
    },
    {
     "name": "stderr",
     "output_type": "stream",
     "text": [
      "INFO:tensorflow:Assets written to: models/experiment-1-1/assets\n"
     ]
    },
    {
     "name": "stdout",
     "output_type": "stream",
     "text": [
      "610/610 [==============================] - 6s 10ms/step - loss: 0.0401 - accuracy: 0.9983 - val_loss: 0.0220 - val_accuracy: 0.9994\n",
      "Epoch 4/15\n",
      "607/610 [============================>.] - ETA: 0s - loss: 0.0134 - accuracy: 0.9999INFO:tensorflow:Assets written to: models/experiment-1-1/assets\n"
     ]
    },
    {
     "name": "stderr",
     "output_type": "stream",
     "text": [
      "INFO:tensorflow:Assets written to: models/experiment-1-1/assets\n"
     ]
    },
    {
     "name": "stdout",
     "output_type": "stream",
     "text": [
      "610/610 [==============================] - 6s 10ms/step - loss: 0.0134 - accuracy: 0.9999 - val_loss: 0.0088 - val_accuracy: 1.0000\n",
      "Epoch 5/15\n",
      "609/610 [============================>.] - ETA: 0s - loss: 0.0065 - accuracy: 0.9999INFO:tensorflow:Assets written to: models/experiment-1-1/assets\n"
     ]
    },
    {
     "name": "stderr",
     "output_type": "stream",
     "text": [
      "INFO:tensorflow:Assets written to: models/experiment-1-1/assets\n"
     ]
    },
    {
     "name": "stdout",
     "output_type": "stream",
     "text": [
      "610/610 [==============================] - 6s 10ms/step - loss: 0.0065 - accuracy: 0.9999 - val_loss: 0.0044 - val_accuracy: 1.0000\n",
      "Epoch 6/15\n",
      "607/610 [============================>.] - ETA: 0s - loss: 0.0037 - accuracy: 1.0000INFO:tensorflow:Assets written to: models/experiment-1-1/assets\n"
     ]
    },
    {
     "name": "stderr",
     "output_type": "stream",
     "text": [
      "INFO:tensorflow:Assets written to: models/experiment-1-1/assets\n"
     ]
    },
    {
     "name": "stdout",
     "output_type": "stream",
     "text": [
      "610/610 [==============================] - 6s 10ms/step - loss: 0.0037 - accuracy: 1.0000 - val_loss: 0.0028 - val_accuracy: 1.0000\n",
      "Epoch 7/15\n",
      "604/610 [============================>.] - ETA: 0s - loss: 0.0023 - accuracy: 1.0000INFO:tensorflow:Assets written to: models/experiment-1-1/assets\n"
     ]
    },
    {
     "name": "stderr",
     "output_type": "stream",
     "text": [
      "INFO:tensorflow:Assets written to: models/experiment-1-1/assets\n"
     ]
    },
    {
     "name": "stdout",
     "output_type": "stream",
     "text": [
      "610/610 [==============================] - 6s 10ms/step - loss: 0.0023 - accuracy: 1.0000 - val_loss: 0.0017 - val_accuracy: 1.0000\n",
      "Epoch 8/15\n",
      "606/610 [============================>.] - ETA: 0s - loss: 0.0236 - accuracy: 0.9932INFO:tensorflow:Assets written to: models/experiment-1-1/assets\n"
     ]
    },
    {
     "name": "stderr",
     "output_type": "stream",
     "text": [
      "INFO:tensorflow:Assets written to: models/experiment-1-1/assets\n"
     ]
    },
    {
     "name": "stdout",
     "output_type": "stream",
     "text": [
      "610/610 [==============================] - 6s 10ms/step - loss: 0.0235 - accuracy: 0.9933 - val_loss: 0.0013 - val_accuracy: 1.0000\n",
      "Epoch 9/15\n",
      "609/610 [============================>.] - ETA: 0s - loss: 9.9133e-04 - accuracy: 1.0000INFO:tensorflow:Assets written to: models/experiment-1-1/assets\n"
     ]
    },
    {
     "name": "stderr",
     "output_type": "stream",
     "text": [
      "INFO:tensorflow:Assets written to: models/experiment-1-1/assets\n"
     ]
    },
    {
     "name": "stdout",
     "output_type": "stream",
     "text": [
      "610/610 [==============================] - 6s 10ms/step - loss: 9.9120e-04 - accuracy: 1.0000 - val_loss: 7.2975e-04 - val_accuracy: 1.0000\n",
      "Epoch 10/15\n",
      "608/610 [============================>.] - ETA: 0s - loss: 6.0436e-04 - accuracy: 1.0000INFO:tensorflow:Assets written to: models/experiment-1-1/assets\n"
     ]
    },
    {
     "name": "stderr",
     "output_type": "stream",
     "text": [
      "INFO:tensorflow:Assets written to: models/experiment-1-1/assets\n"
     ]
    },
    {
     "name": "stdout",
     "output_type": "stream",
     "text": [
      "610/610 [==============================] - 6s 9ms/step - loss: 6.0433e-04 - accuracy: 1.0000 - val_loss: 5.0533e-04 - val_accuracy: 1.0000\n",
      "Epoch 11/15\n",
      "603/610 [============================>.] - ETA: 0s - loss: 4.7938e-04 - accuracy: 1.0000INFO:tensorflow:Assets written to: models/experiment-1-1/assets\n"
     ]
    },
    {
     "name": "stderr",
     "output_type": "stream",
     "text": [
      "INFO:tensorflow:Assets written to: models/experiment-1-1/assets\n"
     ]
    },
    {
     "name": "stdout",
     "output_type": "stream",
     "text": [
      "610/610 [==============================] - 6s 9ms/step - loss: 4.7767e-04 - accuracy: 1.0000 - val_loss: 4.5436e-04 - val_accuracy: 1.0000\n",
      "Epoch 12/15\n",
      "604/610 [============================>.] - ETA: 0s - loss: 3.4957e-04 - accuracy: 1.0000INFO:tensorflow:Assets written to: models/experiment-1-1/assets\n"
     ]
    },
    {
     "name": "stderr",
     "output_type": "stream",
     "text": [
      "INFO:tensorflow:Assets written to: models/experiment-1-1/assets\n"
     ]
    },
    {
     "name": "stdout",
     "output_type": "stream",
     "text": [
      "610/610 [==============================] - 5s 9ms/step - loss: 3.4857e-04 - accuracy: 1.0000 - val_loss: 3.1722e-04 - val_accuracy: 1.0000\n",
      "Epoch 13/15\n",
      "610/610 [==============================] - 5s 9ms/step - loss: 2.5672e-04 - accuracy: 1.0000 - val_loss: 3.2642e-04 - val_accuracy: 1.0000\n",
      "Epoch 14/15\n",
      "607/610 [============================>.] - ETA: 0s - loss: 1.9182e-04 - accuracy: 1.0000INFO:tensorflow:Assets written to: models/experiment-1-1/assets\n"
     ]
    },
    {
     "name": "stderr",
     "output_type": "stream",
     "text": [
      "INFO:tensorflow:Assets written to: models/experiment-1-1/assets\n"
     ]
    },
    {
     "name": "stdout",
     "output_type": "stream",
     "text": [
      "610/610 [==============================] - 6s 9ms/step - loss: 1.9257e-04 - accuracy: 1.0000 - val_loss: 1.9294e-04 - val_accuracy: 1.0000\n",
      "Epoch 15/15\n",
      "608/610 [============================>.] - ETA: 0s - loss: 1.5963e-04 - accuracy: 1.0000INFO:tensorflow:Assets written to: models/experiment-1-1/assets\n"
     ]
    },
    {
     "name": "stderr",
     "output_type": "stream",
     "text": [
      "INFO:tensorflow:Assets written to: models/experiment-1-1/assets\n"
     ]
    },
    {
     "name": "stdout",
     "output_type": "stream",
     "text": [
      "610/610 [==============================] - 6s 9ms/step - loss: 1.5966e-04 - accuracy: 1.0000 - val_loss: 1.6669e-04 - val_accuracy: 1.0000\n",
      "Epoch 1/15\n",
      "607/610 [============================>.] - ETA: 0s - loss: 0.9605 - accuracy: 0.7111INFO:tensorflow:Assets written to: models/experiment-1-2/assets\n"
     ]
    },
    {
     "name": "stderr",
     "output_type": "stream",
     "text": [
      "INFO:tensorflow:Assets written to: models/experiment-1-2/assets\n"
     ]
    },
    {
     "name": "stdout",
     "output_type": "stream",
     "text": [
      "610/610 [==============================] - 11s 17ms/step - loss: 0.9571 - accuracy: 0.7122 - val_loss: 0.1432 - val_accuracy: 0.9563\n",
      "Epoch 2/15\n",
      "609/610 [============================>.] - ETA: 0s - loss: 0.0369 - accuracy: 0.9925INFO:tensorflow:Assets written to: models/experiment-1-2/assets\n"
     ]
    },
    {
     "name": "stderr",
     "output_type": "stream",
     "text": [
      "INFO:tensorflow:Assets written to: models/experiment-1-2/assets\n"
     ]
    },
    {
     "name": "stdout",
     "output_type": "stream",
     "text": [
      "610/610 [==============================] - 10s 17ms/step - loss: 0.0369 - accuracy: 0.9925 - val_loss: 0.0089 - val_accuracy: 0.9990\n",
      "Epoch 3/15\n",
      "607/610 [============================>.] - ETA: 0s - loss: 0.0029 - accuracy: 1.0000INFO:tensorflow:Assets written to: models/experiment-1-2/assets\n"
     ]
    },
    {
     "name": "stderr",
     "output_type": "stream",
     "text": [
      "INFO:tensorflow:Assets written to: models/experiment-1-2/assets\n"
     ]
    },
    {
     "name": "stdout",
     "output_type": "stream",
     "text": [
      "610/610 [==============================] - 10s 17ms/step - loss: 0.0029 - accuracy: 1.0000 - val_loss: 0.0018 - val_accuracy: 1.0000\n",
      "Epoch 4/15\n",
      "609/610 [============================>.] - ETA: 0s - loss: 0.0011 - accuracy: 1.0000INFO:tensorflow:Assets written to: models/experiment-1-2/assets\n"
     ]
    },
    {
     "name": "stderr",
     "output_type": "stream",
     "text": [
      "INFO:tensorflow:Assets written to: models/experiment-1-2/assets\n"
     ]
    },
    {
     "name": "stdout",
     "output_type": "stream",
     "text": [
      "610/610 [==============================] - 10s 17ms/step - loss: 0.0011 - accuracy: 1.0000 - val_loss: 8.0230e-04 - val_accuracy: 1.0000\n",
      "Epoch 5/15\n",
      "607/610 [============================>.] - ETA: 0s - loss: 5.5490e-04 - accuracy: 1.0000INFO:tensorflow:Assets written to: models/experiment-1-2/assets\n"
     ]
    },
    {
     "name": "stderr",
     "output_type": "stream",
     "text": [
      "INFO:tensorflow:Assets written to: models/experiment-1-2/assets\n"
     ]
    },
    {
     "name": "stdout",
     "output_type": "stream",
     "text": [
      "610/610 [==============================] - 10s 17ms/step - loss: 5.5433e-04 - accuracy: 1.0000 - val_loss: 4.1649e-04 - val_accuracy: 1.0000\n",
      "Epoch 6/15\n",
      "607/610 [============================>.] - ETA: 0s - loss: 3.1125e-04 - accuracy: 1.0000INFO:tensorflow:Assets written to: models/experiment-1-2/assets\n"
     ]
    },
    {
     "name": "stderr",
     "output_type": "stream",
     "text": [
      "INFO:tensorflow:Assets written to: models/experiment-1-2/assets\n"
     ]
    },
    {
     "name": "stdout",
     "output_type": "stream",
     "text": [
      "610/610 [==============================] - 11s 18ms/step - loss: 3.1110e-04 - accuracy: 1.0000 - val_loss: 2.6848e-04 - val_accuracy: 1.0000\n",
      "Epoch 7/15\n",
      "610/610 [==============================] - 11s 18ms/step - loss: 0.0394 - accuracy: 0.9870 - val_loss: 0.0215 - val_accuracy: 0.9962\n",
      "Epoch 8/15\n",
      "610/610 [==============================] - 11s 18ms/step - loss: 0.0041 - accuracy: 0.9993 - val_loss: 4.0158e-04 - val_accuracy: 1.0000\n",
      "Epoch 9/15\n",
      "607/610 [============================>.] - ETA: 0s - loss: 2.1017e-04 - accuracy: 1.0000INFO:tensorflow:Assets written to: models/experiment-1-2/assets\n"
     ]
    },
    {
     "name": "stderr",
     "output_type": "stream",
     "text": [
      "INFO:tensorflow:Assets written to: models/experiment-1-2/assets\n"
     ]
    },
    {
     "name": "stdout",
     "output_type": "stream",
     "text": [
      "610/610 [==============================] - 11s 18ms/step - loss: 2.0992e-04 - accuracy: 1.0000 - val_loss: 1.6227e-04 - val_accuracy: 1.0000\n",
      "Epoch 10/15\n",
      "607/610 [============================>.] - ETA: 0s - loss: 1.0738e-04 - accuracy: 1.0000INFO:tensorflow:Assets written to: models/experiment-1-2/assets\n"
     ]
    },
    {
     "name": "stderr",
     "output_type": "stream",
     "text": [
      "INFO:tensorflow:Assets written to: models/experiment-1-2/assets\n"
     ]
    },
    {
     "name": "stdout",
     "output_type": "stream",
     "text": [
      "610/610 [==============================] - 11s 18ms/step - loss: 1.0731e-04 - accuracy: 1.0000 - val_loss: 9.6069e-05 - val_accuracy: 1.0000\n",
      "Epoch 11/15\n",
      "607/610 [============================>.] - ETA: 0s - loss: 6.7583e-05 - accuracy: 1.0000INFO:tensorflow:Assets written to: models/experiment-1-2/assets\n"
     ]
    },
    {
     "name": "stderr",
     "output_type": "stream",
     "text": [
      "INFO:tensorflow:Assets written to: models/experiment-1-2/assets\n"
     ]
    },
    {
     "name": "stdout",
     "output_type": "stream",
     "text": [
      "610/610 [==============================] - 11s 18ms/step - loss: 6.7575e-05 - accuracy: 1.0000 - val_loss: 6.3277e-05 - val_accuracy: 1.0000\n",
      "Epoch 12/15\n",
      "608/610 [============================>.] - ETA: 0s - loss: 4.5705e-05 - accuracy: 1.0000INFO:tensorflow:Assets written to: models/experiment-1-2/assets\n"
     ]
    },
    {
     "name": "stderr",
     "output_type": "stream",
     "text": [
      "INFO:tensorflow:Assets written to: models/experiment-1-2/assets\n"
     ]
    },
    {
     "name": "stdout",
     "output_type": "stream",
     "text": [
      "610/610 [==============================] - 11s 18ms/step - loss: 4.5644e-05 - accuracy: 1.0000 - val_loss: 4.4154e-05 - val_accuracy: 1.0000\n",
      "Epoch 13/15\n",
      "607/610 [============================>.] - ETA: 0s - loss: 3.2224e-05 - accuracy: 1.0000INFO:tensorflow:Assets written to: models/experiment-1-2/assets\n"
     ]
    },
    {
     "name": "stderr",
     "output_type": "stream",
     "text": [
      "INFO:tensorflow:Assets written to: models/experiment-1-2/assets\n"
     ]
    },
    {
     "name": "stdout",
     "output_type": "stream",
     "text": [
      "610/610 [==============================] - 11s 18ms/step - loss: 3.2235e-05 - accuracy: 1.0000 - val_loss: 3.2106e-05 - val_accuracy: 1.0000\n",
      "Epoch 14/15\n",
      "607/610 [============================>.] - ETA: 0s - loss: 2.3224e-05 - accuracy: 1.0000INFO:tensorflow:Assets written to: models/experiment-1-2/assets\n"
     ]
    },
    {
     "name": "stderr",
     "output_type": "stream",
     "text": [
      "INFO:tensorflow:Assets written to: models/experiment-1-2/assets\n"
     ]
    },
    {
     "name": "stdout",
     "output_type": "stream",
     "text": [
      "610/610 [==============================] - 11s 18ms/step - loss: 2.3213e-05 - accuracy: 1.0000 - val_loss: 2.3880e-05 - val_accuracy: 1.0000\n",
      "Epoch 15/15\n",
      "609/610 [============================>.] - ETA: 0s - loss: 1.7102e-05 - accuracy: 1.0000INFO:tensorflow:Assets written to: models/experiment-1-2/assets\n"
     ]
    },
    {
     "name": "stderr",
     "output_type": "stream",
     "text": [
      "INFO:tensorflow:Assets written to: models/experiment-1-2/assets\n"
     ]
    },
    {
     "name": "stdout",
     "output_type": "stream",
     "text": [
      "610/610 [==============================] - 11s 18ms/step - loss: 1.7093e-05 - accuracy: 1.0000 - val_loss: 1.7713e-05 - val_accuracy: 1.0000\n",
      "Epoch 1/15\n",
      "610/610 [==============================] - ETA: 0s - loss: 1.0615 - accuracy: 0.6734INFO:tensorflow:Assets written to: models/experiment-1-3/assets\n"
     ]
    },
    {
     "name": "stderr",
     "output_type": "stream",
     "text": [
      "INFO:tensorflow:Assets written to: models/experiment-1-3/assets\n"
     ]
    },
    {
     "name": "stdout",
     "output_type": "stream",
     "text": [
      "610/610 [==============================] - 14s 22ms/step - loss: 1.0615 - accuracy: 0.6734 - val_loss: 0.0983 - val_accuracy: 0.9741\n",
      "Epoch 2/15\n",
      "607/610 [============================>.] - ETA: 0s - loss: 0.0382 - accuracy: 0.9904INFO:tensorflow:Assets written to: models/experiment-1-3/assets\n"
     ]
    },
    {
     "name": "stderr",
     "output_type": "stream",
     "text": [
      "INFO:tensorflow:Assets written to: models/experiment-1-3/assets\n"
     ]
    },
    {
     "name": "stdout",
     "output_type": "stream",
     "text": [
      "610/610 [==============================] - 14s 22ms/step - loss: 0.0381 - accuracy: 0.9904 - val_loss: 0.0159 - val_accuracy: 0.9966\n",
      "Epoch 3/15\n",
      "610/610 [==============================] - ETA: 0s - loss: 0.0026 - accuracy: 0.9996INFO:tensorflow:Assets written to: models/experiment-1-3/assets\n"
     ]
    },
    {
     "name": "stderr",
     "output_type": "stream",
     "text": [
      "INFO:tensorflow:Assets written to: models/experiment-1-3/assets\n"
     ]
    },
    {
     "name": "stdout",
     "output_type": "stream",
     "text": [
      "610/610 [==============================] - 14s 23ms/step - loss: 0.0026 - accuracy: 0.9996 - val_loss: 4.2517e-04 - val_accuracy: 1.0000\n",
      "Epoch 4/15\n",
      "609/610 [============================>.] - ETA: 0s - loss: 2.7773e-04 - accuracy: 1.0000INFO:tensorflow:Assets written to: models/experiment-1-3/assets\n"
     ]
    },
    {
     "name": "stderr",
     "output_type": "stream",
     "text": [
      "INFO:tensorflow:Assets written to: models/experiment-1-3/assets\n"
     ]
    },
    {
     "name": "stdout",
     "output_type": "stream",
     "text": [
      "610/610 [==============================] - 14s 22ms/step - loss: 2.7769e-04 - accuracy: 1.0000 - val_loss: 2.1652e-04 - val_accuracy: 1.0000\n",
      "Epoch 5/15\n",
      "610/610 [==============================] - ETA: 0s - loss: 1.5325e-04 - accuracy: 1.0000INFO:tensorflow:Assets written to: models/experiment-1-3/assets\n"
     ]
    },
    {
     "name": "stderr",
     "output_type": "stream",
     "text": [
      "INFO:tensorflow:Assets written to: models/experiment-1-3/assets\n"
     ]
    },
    {
     "name": "stdout",
     "output_type": "stream",
     "text": [
      "610/610 [==============================] - 14s 22ms/step - loss: 1.5325e-04 - accuracy: 1.0000 - val_loss: 1.3258e-04 - val_accuracy: 1.0000\n",
      "Epoch 6/15\n",
      "607/610 [============================>.] - ETA: 0s - loss: 9.6782e-05 - accuracy: 1.0000INFO:tensorflow:Assets written to: models/experiment-1-3/assets\n"
     ]
    },
    {
     "name": "stderr",
     "output_type": "stream",
     "text": [
      "INFO:tensorflow:Assets written to: models/experiment-1-3/assets\n"
     ]
    },
    {
     "name": "stdout",
     "output_type": "stream",
     "text": [
      "610/610 [==============================] - 14s 22ms/step - loss: 9.6591e-05 - accuracy: 1.0000 - val_loss: 8.4091e-05 - val_accuracy: 1.0000\n",
      "Epoch 7/15\n",
      "610/610 [==============================] - ETA: 0s - loss: 6.1129e-05 - accuracy: 1.0000INFO:tensorflow:Assets written to: models/experiment-1-3/assets\n"
     ]
    },
    {
     "name": "stderr",
     "output_type": "stream",
     "text": [
      "INFO:tensorflow:Assets written to: models/experiment-1-3/assets\n"
     ]
    },
    {
     "name": "stdout",
     "output_type": "stream",
     "text": [
      "610/610 [==============================] - 14s 22ms/step - loss: 6.1129e-05 - accuracy: 1.0000 - val_loss: 5.7781e-05 - val_accuracy: 1.0000\n",
      "Epoch 8/15\n",
      "608/610 [============================>.] - ETA: 0s - loss: 4.1466e-05 - accuracy: 1.0000INFO:tensorflow:Assets written to: models/experiment-1-3/assets\n"
     ]
    },
    {
     "name": "stderr",
     "output_type": "stream",
     "text": [
      "INFO:tensorflow:Assets written to: models/experiment-1-3/assets\n"
     ]
    },
    {
     "name": "stdout",
     "output_type": "stream",
     "text": [
      "610/610 [==============================] - 13s 22ms/step - loss: 4.1453e-05 - accuracy: 1.0000 - val_loss: 3.8684e-05 - val_accuracy: 1.0000\n",
      "Epoch 9/15\n",
      "609/610 [============================>.] - ETA: 0s - loss: 2.8038e-05 - accuracy: 1.0000INFO:tensorflow:Assets written to: models/experiment-1-3/assets\n"
     ]
    },
    {
     "name": "stderr",
     "output_type": "stream",
     "text": [
      "INFO:tensorflow:Assets written to: models/experiment-1-3/assets\n"
     ]
    },
    {
     "name": "stdout",
     "output_type": "stream",
     "text": [
      "610/610 [==============================] - 14s 22ms/step - loss: 2.8065e-05 - accuracy: 1.0000 - val_loss: 2.6194e-05 - val_accuracy: 1.0000\n",
      "Epoch 10/15\n",
      "609/610 [============================>.] - ETA: 0s - loss: 1.8887e-05 - accuracy: 1.0000INFO:tensorflow:Assets written to: models/experiment-1-3/assets\n"
     ]
    },
    {
     "name": "stderr",
     "output_type": "stream",
     "text": [
      "INFO:tensorflow:Assets written to: models/experiment-1-3/assets\n"
     ]
    },
    {
     "name": "stdout",
     "output_type": "stream",
     "text": [
      "610/610 [==============================] - 14s 22ms/step - loss: 1.8879e-05 - accuracy: 1.0000 - val_loss: 1.7739e-05 - val_accuracy: 1.0000\n",
      "Epoch 11/15\n",
      "608/610 [============================>.] - ETA: 0s - loss: 1.2938e-05 - accuracy: 1.0000INFO:tensorflow:Assets written to: models/experiment-1-3/assets\n"
     ]
    },
    {
     "name": "stderr",
     "output_type": "stream",
     "text": [
      "INFO:tensorflow:Assets written to: models/experiment-1-3/assets\n"
     ]
    },
    {
     "name": "stdout",
     "output_type": "stream",
     "text": [
      "610/610 [==============================] - 14s 23ms/step - loss: 1.2916e-05 - accuracy: 1.0000 - val_loss: 1.3732e-05 - val_accuracy: 1.0000\n",
      "Epoch 12/15\n",
      "609/610 [============================>.] - ETA: 0s - loss: 8.6070e-06 - accuracy: 1.0000INFO:tensorflow:Assets written to: models/experiment-1-3/assets\n"
     ]
    },
    {
     "name": "stderr",
     "output_type": "stream",
     "text": [
      "INFO:tensorflow:Assets written to: models/experiment-1-3/assets\n"
     ]
    },
    {
     "name": "stdout",
     "output_type": "stream",
     "text": [
      "610/610 [==============================] - 13s 22ms/step - loss: 8.6025e-06 - accuracy: 1.0000 - val_loss: 8.2573e-06 - val_accuracy: 1.0000\n",
      "Epoch 13/15\n",
      "610/610 [==============================] - ETA: 0s - loss: 5.2272e-06 - accuracy: 1.0000INFO:tensorflow:Assets written to: models/experiment-1-3/assets\n"
     ]
    },
    {
     "name": "stderr",
     "output_type": "stream",
     "text": [
      "INFO:tensorflow:Assets written to: models/experiment-1-3/assets\n"
     ]
    },
    {
     "name": "stdout",
     "output_type": "stream",
     "text": [
      "610/610 [==============================] - 14s 22ms/step - loss: 5.2272e-06 - accuracy: 1.0000 - val_loss: 4.8568e-06 - val_accuracy: 1.0000\n",
      "Epoch 14/15\n",
      "607/610 [============================>.] - ETA: 0s - loss: 3.4959e-06 - accuracy: 1.0000INFO:tensorflow:Assets written to: models/experiment-1-3/assets\n"
     ]
    },
    {
     "name": "stderr",
     "output_type": "stream",
     "text": [
      "INFO:tensorflow:Assets written to: models/experiment-1-3/assets\n"
     ]
    },
    {
     "name": "stdout",
     "output_type": "stream",
     "text": [
      "610/610 [==============================] - 14s 22ms/step - loss: 3.4973e-06 - accuracy: 1.0000 - val_loss: 3.6765e-06 - val_accuracy: 1.0000\n",
      "Epoch 15/15\n",
      "607/610 [============================>.] - ETA: 0s - loss: 2.2503e-06 - accuracy: 1.0000INFO:tensorflow:Assets written to: models/experiment-1-3/assets\n"
     ]
    },
    {
     "name": "stderr",
     "output_type": "stream",
     "text": [
      "INFO:tensorflow:Assets written to: models/experiment-1-3/assets\n"
     ]
    },
    {
     "name": "stdout",
     "output_type": "stream",
     "text": [
      "\b\b\b\b\b\b\b\b\b\b\b\b\b\b\b\b\b\b\b\b\b\b\b\b\b\b\b\b\b\b\b\b\b\b\b\b\b\b\b\b\b\b\b\b\b\b\b\b\b\b\b\b\b\b\b\b\b\b\b\b\b\b\b\b\b\b\b\b\b\b\b\b\b\b\b\b\b\b\b\b\b\b\b\b\b\b\b\b\r",
      "610/610 [==============================] - 14s 23ms/step - loss: 2.2485e-06 - accuracy: 1.0000 - val_loss: 2.5110e-06 - val_accuracy: 1.0000\n"
     ]
    }
   ],
   "source": [
    "# Models\n",
    "# 'models/experiment-1-1'\n",
    "# 'models/experiment-1-2'\n",
    "# 'models/experiment-1-3'\n",
    "\n",
    "# History objects\n",
    "# 'models/experiment-1-1-history'\n",
    "# 'models/experiment-1-2-history'\n",
    "# 'models/experiment-1-3-history'\n",
    "\n",
    "n_pairs = 3\n",
    "models_pairs = [keras.models.Sequential() for i in range(n_pairs)]\n",
    "early_stopping_cb = keras.callbacks.EarlyStopping(patience=5)\n",
    "\n",
    "for n in range(1, n_pairs+1):\n",
    "    models_pairs[n-1].add(keras.layers.Conv2D(32, (5, 5), padding='same', activation='relu', input_shape=(28, 28, 1)))\n",
    "    models_pairs[n-1].add(keras.layers.MaxPooling2D(pool_size=(2, 2)))\n",
    "    for i in range(1, n):\n",
    "        models_pairs[n-1].add(keras.layers.Conv2D(32*(i+1), (5, 5), padding='same', activation='relu'))\n",
    "        models_pairs[n-1].add(keras.layers.MaxPooling2D(pool_size=(2, 2)))\n",
    "    models_pairs[n-1].add(keras.layers.Flatten())\n",
    "    models_pairs[n-1].add(keras.layers.Dense(128, activation='relu'))\n",
    "    models_pairs[n-1].add(keras.layers.Dense(24, activation='softmax'))\n",
    "    models_pairs[n-1].compile(loss='categorical_crossentropy', optimizer='adam', metrics=['accuracy'])\n",
    "    save_best_cb = keras.callbacks.ModelCheckpoint(f'models/experiment-1-{n}', save_best_only=True)\n",
    "    history = models_pairs[n-1].fit(X_train, y_train, epochs=15, validation_data=(X_valid, y_valid), callbacks=[save_best_cb, early_stopping_cb])\n",
    "    with open(f'models/experiment-1-{n}-history', 'wb') as history_file:\n",
    "        pickle.dump(history.history, history_file)"
   ]
  },
  {
   "cell_type": "code",
   "execution_count": 48,
   "id": "fe1939d8",
   "metadata": {
    "ExecuteTime": {
     "end_time": "2023-05-27T10:29:26.079507Z",
     "start_time": "2023-05-27T10:29:26.059427Z"
    },
    "scrolled": false
   },
   "outputs": [
    {
     "name": "stdout",
     "output_type": "stream",
     "text": [
      "Model: \"sequential_1\"\n",
      "_________________________________________________________________\n",
      " Layer (type)                Output Shape              Param #   \n",
      "=================================================================\n",
      " conv2d_3 (Conv2D)           (None, 28, 28, 32)        832       \n",
      "                                                                 \n",
      " max_pooling2d_3 (MaxPoolin  (None, 14, 14, 32)        0         \n",
      " g2D)                                                            \n",
      "                                                                 \n",
      " flatten_1 (Flatten)         (None, 6272)              0         \n",
      "                                                                 \n",
      " dense_2 (Dense)             (None, 128)               802944    \n",
      "                                                                 \n",
      " dense_3 (Dense)             (None, 24)                3096      \n",
      "                                                                 \n",
      "=================================================================\n",
      "Total params: 806872 (3.08 MB)\n",
      "Trainable params: 806872 (3.08 MB)\n",
      "Non-trainable params: 0 (0.00 Byte)\n",
      "_________________________________________________________________\n"
     ]
    }
   ],
   "source": [
    "models_pairs[0].summary()"
   ]
  },
  {
   "cell_type": "code",
   "execution_count": 49,
   "id": "8945d1b6",
   "metadata": {
    "ExecuteTime": {
     "end_time": "2023-05-27T10:29:27.448509Z",
     "start_time": "2023-05-27T10:29:27.428859Z"
    },
    "scrolled": true
   },
   "outputs": [
    {
     "name": "stdout",
     "output_type": "stream",
     "text": [
      "Model: \"sequential_2\"\n",
      "_________________________________________________________________\n",
      " Layer (type)                Output Shape              Param #   \n",
      "=================================================================\n",
      " conv2d_4 (Conv2D)           (None, 28, 28, 32)        832       \n",
      "                                                                 \n",
      " max_pooling2d_4 (MaxPoolin  (None, 14, 14, 32)        0         \n",
      " g2D)                                                            \n",
      "                                                                 \n",
      " conv2d_5 (Conv2D)           (None, 14, 14, 64)        51264     \n",
      "                                                                 \n",
      " max_pooling2d_5 (MaxPoolin  (None, 7, 7, 64)          0         \n",
      " g2D)                                                            \n",
      "                                                                 \n",
      " flatten_2 (Flatten)         (None, 3136)              0         \n",
      "                                                                 \n",
      " dense_4 (Dense)             (None, 128)               401536    \n",
      "                                                                 \n",
      " dense_5 (Dense)             (None, 24)                3096      \n",
      "                                                                 \n",
      "=================================================================\n",
      "Total params: 456728 (1.74 MB)\n",
      "Trainable params: 456728 (1.74 MB)\n",
      "Non-trainable params: 0 (0.00 Byte)\n",
      "_________________________________________________________________\n"
     ]
    }
   ],
   "source": [
    "models_pairs[1].summary()"
   ]
  },
  {
   "cell_type": "code",
   "execution_count": 50,
   "id": "c7a0122c",
   "metadata": {
    "ExecuteTime": {
     "end_time": "2023-05-27T10:29:28.841189Z",
     "start_time": "2023-05-27T10:29:28.817926Z"
    },
    "scrolled": true
   },
   "outputs": [
    {
     "name": "stdout",
     "output_type": "stream",
     "text": [
      "Model: \"sequential_3\"\n",
      "_________________________________________________________________\n",
      " Layer (type)                Output Shape              Param #   \n",
      "=================================================================\n",
      " conv2d_6 (Conv2D)           (None, 28, 28, 32)        832       \n",
      "                                                                 \n",
      " max_pooling2d_6 (MaxPoolin  (None, 14, 14, 32)        0         \n",
      " g2D)                                                            \n",
      "                                                                 \n",
      " conv2d_7 (Conv2D)           (None, 14, 14, 64)        51264     \n",
      "                                                                 \n",
      " max_pooling2d_7 (MaxPoolin  (None, 7, 7, 64)          0         \n",
      " g2D)                                                            \n",
      "                                                                 \n",
      " conv2d_8 (Conv2D)           (None, 7, 7, 96)          153696    \n",
      "                                                                 \n",
      " max_pooling2d_8 (MaxPoolin  (None, 3, 3, 96)          0         \n",
      " g2D)                                                            \n",
      "                                                                 \n",
      " flatten_3 (Flatten)         (None, 864)               0         \n",
      "                                                                 \n",
      " dense_6 (Dense)             (None, 128)               110720    \n",
      "                                                                 \n",
      " dense_7 (Dense)             (None, 24)                3096      \n",
      "                                                                 \n",
      "=================================================================\n",
      "Total params: 319608 (1.22 MB)\n",
      "Trainable params: 319608 (1.22 MB)\n",
      "Non-trainable params: 0 (0.00 Byte)\n",
      "_________________________________________________________________\n"
     ]
    }
   ],
   "source": [
    "models_pairs[2].summary()"
   ]
  },
  {
   "cell_type": "code",
   "execution_count": 51,
   "id": "f5e21d6c",
   "metadata": {
    "ExecuteTime": {
     "end_time": "2023-05-27T10:29:34.659057Z",
     "start_time": "2023-05-27T10:29:29.746757Z"
    }
   },
   "outputs": [
    {
     "name": "stdout",
     "output_type": "stream",
     "text": [
      "249/249 [==============================] - 1s 3ms/step - loss: 1.6669e-04 - accuracy: 1.0000\n",
      "249/249 [==============================] - 1s 6ms/step - loss: 1.7713e-05 - accuracy: 1.0000\n",
      "249/249 [==============================] - 2s 9ms/step - loss: 2.5110e-06 - accuracy: 1.0000\n"
     ]
    }
   ],
   "source": [
    "for index in range(n_pairs):\n",
    "    model = keras.models.load_model(f'models/experiment-1-{index+1}')\n",
    "    model.evaluate(X_valid, y_valid)"
   ]
  },
  {
   "cell_type": "code",
   "execution_count": 52,
   "id": "83c8007b",
   "metadata": {
    "ExecuteTime": {
     "end_time": "2023-05-27T10:29:35.901907Z",
     "start_time": "2023-05-27T10:29:35.892637Z"
    }
   },
   "outputs": [],
   "source": [
    "h_1_1 = np.load('models/experiment-1-1-history', allow_pickle=True)\n",
    "h_1_2 = np.load('models/experiment-1-2-history', allow_pickle=True)\n",
    "h_1_3 = np.load('models/experiment-1-3-history', allow_pickle=True)"
   ]
  },
  {
   "cell_type": "code",
   "execution_count": 53,
   "id": "b62ddb38",
   "metadata": {
    "ExecuteTime": {
     "end_time": "2023-05-27T10:29:37.188145Z",
     "start_time": "2023-05-27T10:29:37.061285Z"
    }
   },
   "outputs": [
    {
     "data": {
      "image/png": "[encoded data removed]",
      "text/plain": [
       "<Figure size 1000x500 with 1 Axes>"
      ]
     },
     "metadata": {},
     "output_type": "display_data"
    }
   ],
   "source": [
    "get_train_val_plots(h_1_1, yticks=np.arange(0, 1.2, 0.1))"
   ]
  },
  {
   "cell_type": "code",
   "execution_count": 54,
   "id": "32fe1158",
   "metadata": {
    "ExecuteTime": {
     "end_time": "2023-05-27T10:29:38.502764Z",
     "start_time": "2023-05-27T10:29:38.375954Z"
    }
   },
   "outputs": [
    {
     "data": {
      "image/png": "[encoded data removed]",
      "text/plain": [
       "<Figure size 1000x500 with 1 Axes>"
      ]
     },
     "metadata": {},
     "output_type": "display_data"
    }
   ],
   "source": [
    "get_train_val_plots(h_1_2, yticks=np.arange(0, 1.2, 0.1))"
   ]
  },
  {
   "cell_type": "code",
   "execution_count": 55,
   "id": "30310268",
   "metadata": {
    "ExecuteTime": {
     "end_time": "2023-05-27T10:29:39.374899Z",
     "start_time": "2023-05-27T10:29:39.248302Z"
    }
   },
   "outputs": [
    {
     "data": {
      "image/png": "[encoded data removed]",
      "text/plain": [
       "<Figure size 1000x500 with 1 Axes>"
      ]
     },
     "metadata": {},
     "output_type": "display_data"
    }
   ],
   "source": [
    "get_train_val_plots(h_1_3, yticks=np.arange(0, 1.2, 0.1))"
   ]
  },
  {
   "cell_type": "markdown",
   "id": "28be53a8",
   "metadata": {},
   "source": [
    "Model 3 has the least loss on the validation data"
   ]
  },
  {
   "cell_type": "markdown",
   "id": "1ebbbd65",
   "metadata": {},
   "source": [
    "## Filters\n",
    "\n",
    "Our Models now contains 3 pairs of Convolution and Pooling layers\n",
    "\n",
    "Number of filters maps can be\n",
    "\n",
    "1. 8 - 16 - 32\n",
    "2. 16 - 32 - 64\n",
    "3. 24 - 48 - 96"
   ]
  },
  {
   "cell_type": "code",
   "execution_count": 56,
   "id": "51ff2cb0",
   "metadata": {
    "ExecuteTime": {
     "end_time": "2023-05-27T10:33:58.486585Z",
     "start_time": "2023-05-27T10:29:42.639055Z"
    },
    "scrolled": true
   },
   "outputs": [
    {
     "name": "stdout",
     "output_type": "stream",
     "text": [
      "Epoch 1/10\n",
      "609/610 [============================>.] - ETA: 0s - loss: 1.3596 - accuracy: 0.5805INFO:tensorflow:Assets written to: models/experiment-fmaps-1/assets\n"
     ]
    },
    {
     "name": "stderr",
     "output_type": "stream",
     "text": [
      "INFO:tensorflow:Assets written to: models/experiment-fmaps-1/assets\n"
     ]
    },
    {
     "name": "stdout",
     "output_type": "stream",
     "text": [
      "610/610 [==============================] - 8s 12ms/step - loss: 1.3589 - accuracy: 0.5807 - val_loss: 0.4372 - val_accuracy: 0.8631\n",
      "Epoch 2/10\n",
      "609/610 [============================>.] - ETA: 0s - loss: 0.2014 - accuracy: 0.9378INFO:tensorflow:Assets written to: models/experiment-fmaps-1/assets\n"
     ]
    },
    {
     "name": "stderr",
     "output_type": "stream",
     "text": [
      "INFO:tensorflow:Assets written to: models/experiment-fmaps-1/assets\n"
     ]
    },
    {
     "name": "stdout",
     "output_type": "stream",
     "text": [
      "610/610 [==============================] - 7s 12ms/step - loss: 0.2013 - accuracy: 0.9378 - val_loss: 0.0701 - val_accuracy: 0.9872\n",
      "Epoch 3/10\n",
      "607/610 [============================>.] - ETA: 0s - loss: 0.0399 - accuracy: 0.9922INFO:tensorflow:Assets written to: models/experiment-fmaps-1/assets\n"
     ]
    },
    {
     "name": "stderr",
     "output_type": "stream",
     "text": [
      "INFO:tensorflow:Assets written to: models/experiment-fmaps-1/assets\n"
     ]
    },
    {
     "name": "stdout",
     "output_type": "stream",
     "text": [
      "610/610 [==============================] - 7s 12ms/step - loss: 0.0398 - accuracy: 0.9922 - val_loss: 0.0293 - val_accuracy: 0.9952\n",
      "Epoch 4/10\n",
      "610/610 [==============================] - ETA: 0s - loss: 0.0306 - accuracy: 0.9929INFO:tensorflow:Assets written to: models/experiment-fmaps-1/assets\n"
     ]
    },
    {
     "name": "stderr",
     "output_type": "stream",
     "text": [
      "INFO:tensorflow:Assets written to: models/experiment-fmaps-1/assets\n"
     ]
    },
    {
     "name": "stdout",
     "output_type": "stream",
     "text": [
      "610/610 [==============================] - 7s 11ms/step - loss: 0.0306 - accuracy: 0.9929 - val_loss: 0.0068 - val_accuracy: 0.9987\n",
      "Epoch 5/10\n",
      "610/610 [==============================] - ETA: 0s - loss: 0.0036 - accuracy: 0.9998INFO:tensorflow:Assets written to: models/experiment-fmaps-1/assets\n"
     ]
    },
    {
     "name": "stderr",
     "output_type": "stream",
     "text": [
      "INFO:tensorflow:Assets written to: models/experiment-fmaps-1/assets\n"
     ]
    },
    {
     "name": "stdout",
     "output_type": "stream",
     "text": [
      "610/610 [==============================] - 7s 11ms/step - loss: 0.0036 - accuracy: 0.9998 - val_loss: 0.0018 - val_accuracy: 0.9999\n",
      "Epoch 6/10\n",
      "608/610 [============================>.] - ETA: 0s - loss: 0.0010 - accuracy: 1.0000INFO:tensorflow:Assets written to: models/experiment-fmaps-1/assets\n"
     ]
    },
    {
     "name": "stderr",
     "output_type": "stream",
     "text": [
      "INFO:tensorflow:Assets written to: models/experiment-fmaps-1/assets\n"
     ]
    },
    {
     "name": "stdout",
     "output_type": "stream",
     "text": [
      "610/610 [==============================] - 7s 11ms/step - loss: 0.0010 - accuracy: 1.0000 - val_loss: 0.0012 - val_accuracy: 0.9999\n",
      "Epoch 7/10\n",
      "610/610 [==============================] - 6s 10ms/step - loss: 0.0301 - accuracy: 0.9906 - val_loss: 0.0707 - val_accuracy: 0.9772\n",
      "Epoch 8/10\n",
      "609/610 [============================>.] - ETA: 0s - loss: 0.0185 - accuracy: 0.9938INFO:tensorflow:Assets written to: models/experiment-fmaps-1/assets\n"
     ]
    },
    {
     "name": "stderr",
     "output_type": "stream",
     "text": [
      "INFO:tensorflow:Assets written to: models/experiment-fmaps-1/assets\n"
     ]
    },
    {
     "name": "stdout",
     "output_type": "stream",
     "text": [
      "610/610 [==============================] - 7s 11ms/step - loss: 0.0185 - accuracy: 0.9938 - val_loss: 0.0010 - val_accuracy: 1.0000\n",
      "Epoch 9/10\n",
      "607/610 [============================>.] - ETA: 0s - loss: 7.9646e-04 - accuracy: 0.9998INFO:tensorflow:Assets written to: models/experiment-fmaps-1/assets\n"
     ]
    },
    {
     "name": "stderr",
     "output_type": "stream",
     "text": [
      "INFO:tensorflow:Assets written to: models/experiment-fmaps-1/assets\n"
     ]
    },
    {
     "name": "stdout",
     "output_type": "stream",
     "text": [
      "610/610 [==============================] - 7s 11ms/step - loss: 7.9475e-04 - accuracy: 0.9998 - val_loss: 4.4102e-04 - val_accuracy: 1.0000\n",
      "Epoch 10/10\n",
      "610/610 [==============================] - 6s 10ms/step - loss: 0.0266 - accuracy: 0.9914 - val_loss: 0.0080 - val_accuracy: 0.9981\n",
      "Epoch 1/10\n",
      "610/610 [==============================] - ETA: 0s - loss: 1.0608 - accuracy: 0.6735INFO:tensorflow:Assets written to: models/experiment-fmaps-2/assets\n"
     ]
    },
    {
     "name": "stderr",
     "output_type": "stream",
     "text": [
      "INFO:tensorflow:Assets written to: models/experiment-fmaps-2/assets\n"
     ]
    },
    {
     "name": "stdout",
     "output_type": "stream",
     "text": [
      "610/610 [==============================] - 8s 14ms/step - loss: 1.0608 - accuracy: 0.6735 - val_loss: 0.1237 - val_accuracy: 0.9707\n",
      "Epoch 2/10\n",
      "607/610 [============================>.] - ETA: 0s - loss: 0.0500 - accuracy: 0.9879INFO:tensorflow:Assets written to: models/experiment-fmaps-2/assets\n"
     ]
    },
    {
     "name": "stderr",
     "output_type": "stream",
     "text": [
      "INFO:tensorflow:Assets written to: models/experiment-fmaps-2/assets\n"
     ]
    },
    {
     "name": "stdout",
     "output_type": "stream",
     "text": [
      "610/610 [==============================] - 8s 14ms/step - loss: 0.0498 - accuracy: 0.9879 - val_loss: 0.0109 - val_accuracy: 0.9981\n",
      "Epoch 3/10\n",
      "609/610 [============================>.] - ETA: 0s - loss: 0.0335 - accuracy: 0.9914INFO:tensorflow:Assets written to: models/experiment-fmaps-2/assets\n"
     ]
    },
    {
     "name": "stderr",
     "output_type": "stream",
     "text": [
      "INFO:tensorflow:Assets written to: models/experiment-fmaps-2/assets\n"
     ]
    },
    {
     "name": "stdout",
     "output_type": "stream",
     "text": [
      "610/610 [==============================] - 8s 14ms/step - loss: 0.0335 - accuracy: 0.9914 - val_loss: 0.0011 - val_accuracy: 1.0000\n",
      "Epoch 4/10\n",
      "607/610 [============================>.] - ETA: 0s - loss: 6.9553e-04 - accuracy: 1.0000INFO:tensorflow:Assets written to: models/experiment-fmaps-2/assets\n"
     ]
    },
    {
     "name": "stderr",
     "output_type": "stream",
     "text": [
      "INFO:tensorflow:Assets written to: models/experiment-fmaps-2/assets\n"
     ]
    },
    {
     "name": "stdout",
     "output_type": "stream",
     "text": [
      "610/610 [==============================] - 8s 14ms/step - loss: 6.9429e-04 - accuracy: 1.0000 - val_loss: 4.4840e-04 - val_accuracy: 1.0000\n",
      "Epoch 5/10\n",
      "609/610 [============================>.] - ETA: 0s - loss: 2.9573e-04 - accuracy: 1.0000INFO:tensorflow:Assets written to: models/experiment-fmaps-2/assets\n"
     ]
    },
    {
     "name": "stderr",
     "output_type": "stream",
     "text": [
      "INFO:tensorflow:Assets written to: models/experiment-fmaps-2/assets\n"
     ]
    },
    {
     "name": "stdout",
     "output_type": "stream",
     "text": [
      "610/610 [==============================] - 8s 13ms/step - loss: 2.9569e-04 - accuracy: 1.0000 - val_loss: 2.8752e-04 - val_accuracy: 1.0000\n",
      "Epoch 6/10\n",
      "609/610 [============================>.] - ETA: 0s - loss: 1.7509e-04 - accuracy: 1.0000INFO:tensorflow:Assets written to: models/experiment-fmaps-2/assets\n"
     ]
    },
    {
     "name": "stderr",
     "output_type": "stream",
     "text": [
      "INFO:tensorflow:Assets written to: models/experiment-fmaps-2/assets\n"
     ]
    },
    {
     "name": "stdout",
     "output_type": "stream",
     "text": [
      "610/610 [==============================] - 8s 12ms/step - loss: 1.7500e-04 - accuracy: 1.0000 - val_loss: 1.6366e-04 - val_accuracy: 1.0000\n",
      "Epoch 7/10\n",
      "608/610 [============================>.] - ETA: 0s - loss: 1.1398e-04 - accuracy: 1.0000INFO:tensorflow:Assets written to: models/experiment-fmaps-2/assets\n"
     ]
    },
    {
     "name": "stderr",
     "output_type": "stream",
     "text": [
      "INFO:tensorflow:Assets written to: models/experiment-fmaps-2/assets\n"
     ]
    },
    {
     "name": "stdout",
     "output_type": "stream",
     "text": [
      "610/610 [==============================] - 8s 13ms/step - loss: 1.1382e-04 - accuracy: 1.0000 - val_loss: 1.0887e-04 - val_accuracy: 1.0000\n",
      "Epoch 8/10\n",
      "607/610 [============================>.] - ETA: 0s - loss: 7.8161e-05 - accuracy: 1.0000INFO:tensorflow:Assets written to: models/experiment-fmaps-2/assets\n"
     ]
    },
    {
     "name": "stderr",
     "output_type": "stream",
     "text": [
      "INFO:tensorflow:Assets written to: models/experiment-fmaps-2/assets\n"
     ]
    },
    {
     "name": "stdout",
     "output_type": "stream",
     "text": [
      "610/610 [==============================] - 8s 13ms/step - loss: 7.8342e-05 - accuracy: 1.0000 - val_loss: 7.8510e-05 - val_accuracy: 1.0000\n",
      "Epoch 9/10\n",
      "609/610 [============================>.] - ETA: 0s - loss: 5.5673e-05 - accuracy: 1.0000INFO:tensorflow:Assets written to: models/experiment-fmaps-2/assets\n"
     ]
    },
    {
     "name": "stderr",
     "output_type": "stream",
     "text": [
      "INFO:tensorflow:Assets written to: models/experiment-fmaps-2/assets\n"
     ]
    },
    {
     "name": "stdout",
     "output_type": "stream",
     "text": [
      "610/610 [==============================] - 8s 13ms/step - loss: 5.5684e-05 - accuracy: 1.0000 - val_loss: 5.4336e-05 - val_accuracy: 1.0000\n",
      "Epoch 10/10\n",
      "608/610 [============================>.] - ETA: 0s - loss: 3.7636e-05 - accuracy: 1.0000INFO:tensorflow:Assets written to: models/experiment-fmaps-2/assets\n"
     ]
    },
    {
     "name": "stderr",
     "output_type": "stream",
     "text": [
      "INFO:tensorflow:Assets written to: models/experiment-fmaps-2/assets\n"
     ]
    },
    {
     "name": "stdout",
     "output_type": "stream",
     "text": [
      "610/610 [==============================] - 8s 13ms/step - loss: 3.7623e-05 - accuracy: 1.0000 - val_loss: 3.9684e-05 - val_accuracy: 1.0000\n",
      "Epoch 1/10\n",
      "610/610 [==============================] - ETA: 0s - loss: 0.8677 - accuracy: 0.7349INFO:tensorflow:Assets written to: models/experiment-fmaps-3/assets\n"
     ]
    },
    {
     "name": "stderr",
     "output_type": "stream",
     "text": [
      "INFO:tensorflow:Assets written to: models/experiment-fmaps-3/assets\n"
     ]
    },
    {
     "name": "stdout",
     "output_type": "stream",
     "text": [
      "610/610 [==============================] - 11s 18ms/step - loss: 0.8677 - accuracy: 0.7349 - val_loss: 0.1295 - val_accuracy: 0.9620\n",
      "Epoch 2/10\n",
      "608/610 [============================>.] - ETA: 0s - loss: 0.0291 - accuracy: 0.9922INFO:tensorflow:Assets written to: models/experiment-fmaps-3/assets\n"
     ]
    },
    {
     "name": "stderr",
     "output_type": "stream",
     "text": [
      "INFO:tensorflow:Assets written to: models/experiment-fmaps-3/assets\n"
     ]
    },
    {
     "name": "stdout",
     "output_type": "stream",
     "text": [
      "610/610 [==============================] - 11s 17ms/step - loss: 0.0290 - accuracy: 0.9922 - val_loss: 0.0473 - val_accuracy: 0.9860\n",
      "Epoch 3/10\n",
      "609/610 [============================>.] - ETA: 0s - loss: 0.0221 - accuracy: 0.9956INFO:tensorflow:Assets written to: models/experiment-fmaps-3/assets\n"
     ]
    },
    {
     "name": "stderr",
     "output_type": "stream",
     "text": [
      "INFO:tensorflow:Assets written to: models/experiment-fmaps-3/assets\n"
     ]
    },
    {
     "name": "stdout",
     "output_type": "stream",
     "text": [
      "610/610 [==============================] - 11s 17ms/step - loss: 0.0221 - accuracy: 0.9956 - val_loss: 5.5914e-04 - val_accuracy: 1.0000\n",
      "Epoch 4/10\n",
      "609/610 [============================>.] - ETA: 0s - loss: 3.1968e-04 - accuracy: 1.0000INFO:tensorflow:Assets written to: models/experiment-fmaps-3/assets\n"
     ]
    },
    {
     "name": "stderr",
     "output_type": "stream",
     "text": [
      "INFO:tensorflow:Assets written to: models/experiment-fmaps-3/assets\n"
     ]
    },
    {
     "name": "stdout",
     "output_type": "stream",
     "text": [
      "610/610 [==============================] - 10s 17ms/step - loss: 3.1960e-04 - accuracy: 1.0000 - val_loss: 2.7828e-04 - val_accuracy: 1.0000\n",
      "Epoch 5/10\n",
      "607/610 [============================>.] - ETA: 0s - loss: 1.6450e-04 - accuracy: 1.0000INFO:tensorflow:Assets written to: models/experiment-fmaps-3/assets\n"
     ]
    },
    {
     "name": "stderr",
     "output_type": "stream",
     "text": [
      "INFO:tensorflow:Assets written to: models/experiment-fmaps-3/assets\n"
     ]
    },
    {
     "name": "stdout",
     "output_type": "stream",
     "text": [
      "610/610 [==============================] - 11s 18ms/step - loss: 1.6454e-04 - accuracy: 1.0000 - val_loss: 1.3789e-04 - val_accuracy: 1.0000\n",
      "Epoch 6/10\n",
      "608/610 [============================>.] - ETA: 0s - loss: 9.8306e-05 - accuracy: 1.0000INFO:tensorflow:Assets written to: models/experiment-fmaps-3/assets\n"
     ]
    },
    {
     "name": "stderr",
     "output_type": "stream",
     "text": [
      "INFO:tensorflow:Assets written to: models/experiment-fmaps-3/assets\n"
     ]
    },
    {
     "name": "stdout",
     "output_type": "stream",
     "text": [
      "610/610 [==============================] - 11s 18ms/step - loss: 9.8218e-05 - accuracy: 1.0000 - val_loss: 8.8669e-05 - val_accuracy: 1.0000\n",
      "Epoch 7/10\n",
      "608/610 [============================>.] - ETA: 0s - loss: 6.4983e-05 - accuracy: 1.0000INFO:tensorflow:Assets written to: models/experiment-fmaps-3/assets\n"
     ]
    },
    {
     "name": "stderr",
     "output_type": "stream",
     "text": [
      "INFO:tensorflow:Assets written to: models/experiment-fmaps-3/assets\n"
     ]
    },
    {
     "name": "stdout",
     "output_type": "stream",
     "text": [
      "610/610 [==============================] - 11s 18ms/step - loss: 6.4918e-05 - accuracy: 1.0000 - val_loss: 6.2003e-05 - val_accuracy: 1.0000\n",
      "Epoch 8/10\n",
      "608/610 [============================>.] - ETA: 0s - loss: 4.3734e-05 - accuracy: 1.0000INFO:tensorflow:Assets written to: models/experiment-fmaps-3/assets\n"
     ]
    },
    {
     "name": "stderr",
     "output_type": "stream",
     "text": [
      "INFO:tensorflow:Assets written to: models/experiment-fmaps-3/assets\n"
     ]
    },
    {
     "name": "stdout",
     "output_type": "stream",
     "text": [
      "610/610 [==============================] - 11s 18ms/step - loss: 4.3685e-05 - accuracy: 1.0000 - val_loss: 4.2129e-05 - val_accuracy: 1.0000\n",
      "Epoch 9/10\n",
      "607/610 [============================>.] - ETA: 0s - loss: 2.9963e-05 - accuracy: 1.0000INFO:tensorflow:Assets written to: models/experiment-fmaps-3/assets\n"
     ]
    },
    {
     "name": "stderr",
     "output_type": "stream",
     "text": [
      "INFO:tensorflow:Assets written to: models/experiment-fmaps-3/assets\n"
     ]
    },
    {
     "name": "stdout",
     "output_type": "stream",
     "text": [
      "610/610 [==============================] - 11s 18ms/step - loss: 3.0001e-05 - accuracy: 1.0000 - val_loss: 3.1382e-05 - val_accuracy: 1.0000\n",
      "Epoch 10/10\n",
      "607/610 [============================>.] - ETA: 0s - loss: 2.0749e-05 - accuracy: 1.0000INFO:tensorflow:Assets written to: models/experiment-fmaps-3/assets\n"
     ]
    },
    {
     "name": "stderr",
     "output_type": "stream",
     "text": [
      "INFO:tensorflow:Assets written to: models/experiment-fmaps-3/assets\n"
     ]
    },
    {
     "name": "stdout",
     "output_type": "stream",
     "text": [
      "\b\b\b\b\b\b\b\b\b\b\b\b\b\b\b\b\b\b\b\b\b\b\b\b\b\b\b\b\b\b\b\b\b\b\b\b\b\b\b\b\b\b\b\b\b\b\b\b\b\b\b\b\b\b\b\b\b\b\b\b\b\b\b\b\b\b\b\b\b\b\b\b\b\b\b\b\b\b\b\b\b\b\b\b\b\b\b\b\r",
      "610/610 [==============================] - 11s 18ms/step - loss: 2.0766e-05 - accuracy: 1.0000 - val_loss: 2.1953e-05 - val_accuracy: 1.0000\n"
     ]
    }
   ],
   "source": [
    "# Models\n",
    "# 'models/experiment-fmaps-1'\n",
    "# 'models/experiment-fmaps-2'\n",
    "# 'models/experiment-fmaps-3'\n",
    "\n",
    "# History objects\n",
    "# 'models/experiment-fmaps-1-history'\n",
    "# 'models/experiment-fmaps-2-history'\n",
    "# 'models/experiment-fmaps-3-history'\n",
    "\n",
    "n_tests = 3\n",
    "\n",
    "models = []\n",
    "early_stopping_cb = keras.callbacks.EarlyStopping(patience=5)\n",
    "\n",
    "\n",
    "for i in range(n_tests):\n",
    "    model = keras.models.Sequential()\n",
    "    models.append(model)\n",
    "    model.add(keras.layers.Input(shape=(28, 28, 1)))\n",
    "    for pairs in range(3):\n",
    "        model.add(keras.layers.Conv2D((8*(i+1))*(2**pairs), (5, 5), padding='same', activation='relu'))\n",
    "        model.add(keras.layers.MaxPooling2D(pool_size=(2, 2)))\n",
    "    model.add(keras.layers.Flatten())\n",
    "    model.add(keras.layers.Dense(128, activation='relu'))\n",
    "    model.add(keras.layers.Dense(24, activation='softmax'))\n",
    "    model.compile(loss='categorical_crossentropy', optimizer='adam', metrics=['accuracy'])\n",
    "    save_best_cb = keras.callbacks.ModelCheckpoint(f'models/experiment-fmaps-{i+1}', save_best_only=True)\n",
    "    history = model.fit(X_train, y_train, epochs=10, validation_data=(X_valid, y_valid), callbacks=[save_best_cb, early_stopping_cb])\n",
    "    with open(f'models/experiment-fmaps-{i+1}-history', 'wb') as history_file:\n",
    "        pickle.dump(history.history, history_file)"
   ]
  },
  {
   "cell_type": "code",
   "execution_count": 57,
   "id": "4c22de89",
   "metadata": {
    "ExecuteTime": {
     "end_time": "2023-05-27T10:34:03.275881Z",
     "start_time": "2023-05-27T10:34:03.253360Z"
    },
    "scrolled": true
   },
   "outputs": [
    {
     "name": "stdout",
     "output_type": "stream",
     "text": [
      "Model: \"sequential_4\"\n",
      "_________________________________________________________________\n",
      " Layer (type)                Output Shape              Param #   \n",
      "=================================================================\n",
      " conv2d_9 (Conv2D)           (None, 28, 28, 8)         208       \n",
      "                                                                 \n",
      " max_pooling2d_9 (MaxPoolin  (None, 14, 14, 8)         0         \n",
      " g2D)                                                            \n",
      "                                                                 \n",
      " conv2d_10 (Conv2D)          (None, 14, 14, 16)        3216      \n",
      "                                                                 \n",
      " max_pooling2d_10 (MaxPooli  (None, 7, 7, 16)          0         \n",
      " ng2D)                                                           \n",
      "                                                                 \n",
      " conv2d_11 (Conv2D)          (None, 7, 7, 32)          12832     \n",
      "                                                                 \n",
      " max_pooling2d_11 (MaxPooli  (None, 3, 3, 32)          0         \n",
      " ng2D)                                                           \n",
      "                                                                 \n",
      " flatten_4 (Flatten)         (None, 288)               0         \n",
      "                                                                 \n",
      " dense_8 (Dense)             (None, 128)               36992     \n",
      "                                                                 \n",
      " dense_9 (Dense)             (None, 24)                3096      \n",
      "                                                                 \n",
      "=================================================================\n",
      "Total params: 56344 (220.09 KB)\n",
      "Trainable params: 56344 (220.09 KB)\n",
      "Non-trainable params: 0 (0.00 Byte)\n",
      "_________________________________________________________________\n"
     ]
    }
   ],
   "source": [
    "models[0].summary()"
   ]
  },
  {
   "cell_type": "code",
   "execution_count": 58,
   "id": "27f5faf6",
   "metadata": {
    "ExecuteTime": {
     "end_time": "2023-05-27T10:34:04.170627Z",
     "start_time": "2023-05-27T10:34:04.150175Z"
    },
    "scrolled": true
   },
   "outputs": [
    {
     "name": "stdout",
     "output_type": "stream",
     "text": [
      "Model: \"sequential_5\"\n",
      "_________________________________________________________________\n",
      " Layer (type)                Output Shape              Param #   \n",
      "=================================================================\n",
      " conv2d_12 (Conv2D)          (None, 28, 28, 16)        416       \n",
      "                                                                 \n",
      " max_pooling2d_12 (MaxPooli  (None, 14, 14, 16)        0         \n",
      " ng2D)                                                           \n",
      "                                                                 \n",
      " conv2d_13 (Conv2D)          (None, 14, 14, 32)        12832     \n",
      "                                                                 \n",
      " max_pooling2d_13 (MaxPooli  (None, 7, 7, 32)          0         \n",
      " ng2D)                                                           \n",
      "                                                                 \n",
      " conv2d_14 (Conv2D)          (None, 7, 7, 64)          51264     \n",
      "                                                                 \n",
      " max_pooling2d_14 (MaxPooli  (None, 3, 3, 64)          0         \n",
      " ng2D)                                                           \n",
      "                                                                 \n",
      " flatten_5 (Flatten)         (None, 576)               0         \n",
      "                                                                 \n",
      " dense_10 (Dense)            (None, 128)               73856     \n",
      "                                                                 \n",
      " dense_11 (Dense)            (None, 24)                3096      \n",
      "                                                                 \n",
      "=================================================================\n",
      "Total params: 141464 (552.59 KB)\n",
      "Trainable params: 141464 (552.59 KB)\n",
      "Non-trainable params: 0 (0.00 Byte)\n",
      "_________________________________________________________________\n"
     ]
    }
   ],
   "source": [
    "models[1].summary()"
   ]
  },
  {
   "cell_type": "code",
   "execution_count": 59,
   "id": "89b7bbaf",
   "metadata": {
    "ExecuteTime": {
     "end_time": "2023-05-27T10:34:04.689536Z",
     "start_time": "2023-05-27T10:34:04.667883Z"
    },
    "scrolled": true
   },
   "outputs": [
    {
     "name": "stdout",
     "output_type": "stream",
     "text": [
      "Model: \"sequential_6\"\n",
      "_________________________________________________________________\n",
      " Layer (type)                Output Shape              Param #   \n",
      "=================================================================\n",
      " conv2d_15 (Conv2D)          (None, 28, 28, 24)        624       \n",
      "                                                                 \n",
      " max_pooling2d_15 (MaxPooli  (None, 14, 14, 24)        0         \n",
      " ng2D)                                                           \n",
      "                                                                 \n",
      " conv2d_16 (Conv2D)          (None, 14, 14, 48)        28848     \n",
      "                                                                 \n",
      " max_pooling2d_16 (MaxPooli  (None, 7, 7, 48)          0         \n",
      " ng2D)                                                           \n",
      "                                                                 \n",
      " conv2d_17 (Conv2D)          (None, 7, 7, 96)          115296    \n",
      "                                                                 \n",
      " max_pooling2d_17 (MaxPooli  (None, 3, 3, 96)          0         \n",
      " ng2D)                                                           \n",
      "                                                                 \n",
      " flatten_6 (Flatten)         (None, 864)               0         \n",
      "                                                                 \n",
      " dense_12 (Dense)            (None, 128)               110720    \n",
      "                                                                 \n",
      " dense_13 (Dense)            (None, 24)                3096      \n",
      "                                                                 \n",
      "=================================================================\n",
      "Total params: 258584 (1010.09 KB)\n",
      "Trainable params: 258584 (1010.09 KB)\n",
      "Non-trainable params: 0 (0.00 Byte)\n",
      "_________________________________________________________________\n"
     ]
    }
   ],
   "source": [
    "models[2].summary()"
   ]
  },
  {
   "cell_type": "code",
   "execution_count": 60,
   "id": "d7b2bf2d",
   "metadata": {
    "ExecuteTime": {
     "end_time": "2023-05-27T10:34:09.285282Z",
     "start_time": "2023-05-27T10:34:05.214403Z"
    }
   },
   "outputs": [
    {
     "name": "stdout",
     "output_type": "stream",
     "text": [
      "249/249 [==============================] - 1s 4ms/step - loss: 4.4102e-04 - accuracy: 1.0000\n",
      "249/249 [==============================] - 1s 4ms/step - loss: 3.9684e-05 - accuracy: 1.0000\n",
      "249/249 [==============================] - 1s 5ms/step - loss: 2.1953e-05 - accuracy: 1.0000\n"
     ]
    }
   ],
   "source": [
    "for index in range(n_tests):\n",
    "    model = keras.models.load_model(f'models/experiment-fmaps-{index+1}')\n",
    "    model.evaluate(X_valid, y_valid)"
   ]
  },
  {
   "cell_type": "code",
   "execution_count": 61,
   "id": "c6af5d12",
   "metadata": {
    "ExecuteTime": {
     "end_time": "2023-05-27T10:34:10.080241Z",
     "start_time": "2023-05-27T10:34:10.070561Z"
    }
   },
   "outputs": [],
   "source": [
    "h_2_1 = np.load('models/experiment-fmaps-1-history', allow_pickle=True)\n",
    "h_2_2 = np.load('models/experiment-fmaps-2-history', allow_pickle=True)\n",
    "h_2_3 = np.load('models/experiment-fmaps-3-history', allow_pickle=True)"
   ]
  },
  {
   "cell_type": "code",
   "execution_count": 62,
   "id": "dac13522",
   "metadata": {
    "ExecuteTime": {
     "end_time": "2023-05-27T10:34:11.143301Z",
     "start_time": "2023-05-27T10:34:10.730549Z"
    },
    "scrolled": true
   },
   "outputs": [
    {
     "data": {
      "image/png": "[encoded data removed]",
      "text/plain": [
       "<Figure size 1000x500 with 1 Axes>"
      ]
     },
     "metadata": {},
     "output_type": "display_data"
    },
    {
     "data": {
      "image/png": "[encoded data removed]",
      "text/plain": [
       "<Figure size 1000x500 with 1 Axes>"
      ]
     },
     "metadata": {},
     "output_type": "display_data"
    },
    {
     "data": {
      "image/png": "[encoded data removed]",
      "text/plain": [
       "<Figure size 1000x500 with 1 Axes>"
      ]
     },
     "metadata": {},
     "output_type": "display_data"
    }
   ],
   "source": [
    "get_train_val_plots(h_2_1, yticks=np.arange(0, 1.2, 0.1))\n",
    "get_train_val_plots(h_2_2, yticks=np.arange(0, 1.2, 0.1))\n",
    "get_train_val_plots(h_2_3, yticks=np.arange(0, 1.2, 0.1))"
   ]
  },
  {
   "cell_type": "markdown",
   "id": "74dc1a09",
   "metadata": {},
   "source": [
    "Choose Model 3"
   ]
  },
  {
   "cell_type": "markdown",
   "id": "68a857fd",
   "metadata": {},
   "source": [
    "## Filter Size"
   ]
  },
  {
   "cell_type": "code",
   "execution_count": 63,
   "id": "4ca42854",
   "metadata": {
    "ExecuteTime": {
     "end_time": "2023-05-27T10:35:12.910524Z",
     "start_time": "2023-05-27T10:34:13.190559Z"
    },
    "scrolled": true
   },
   "outputs": [
    {
     "name": "stdout",
     "output_type": "stream",
     "text": [
      "Epoch 1/10\n",
      "609/610 [============================>.] - ETA: 0s - loss: 1.0417 - accuracy: 0.6855INFO:tensorflow:Assets written to: models/experiment-fiters-1/assets\n"
     ]
    },
    {
     "name": "stderr",
     "output_type": "stream",
     "text": [
      "INFO:tensorflow:Assets written to: models/experiment-fiters-1/assets\n"
     ]
    },
    {
     "name": "stdout",
     "output_type": "stream",
     "text": [
      "610/610 [==============================] - 6s 10ms/step - loss: 1.0413 - accuracy: 0.6856 - val_loss: 0.1749 - val_accuracy: 0.9496\n",
      "Epoch 2/10\n",
      "607/610 [============================>.] - ETA: 0s - loss: 0.0631 - accuracy: 0.9843INFO:tensorflow:Assets written to: models/experiment-fiters-1/assets\n"
     ]
    },
    {
     "name": "stderr",
     "output_type": "stream",
     "text": [
      "INFO:tensorflow:Assets written to: models/experiment-fiters-1/assets\n"
     ]
    },
    {
     "name": "stdout",
     "output_type": "stream",
     "text": [
      "610/610 [==============================] - 6s 10ms/step - loss: 0.0630 - accuracy: 0.9843 - val_loss: 0.0161 - val_accuracy: 0.9977\n",
      "Epoch 3/10\n",
      "610/610 [==============================] - 6s 10ms/step - loss: 0.0220 - accuracy: 0.9939 - val_loss: 0.0180 - val_accuracy: 0.9951\n",
      "Epoch 4/10\n",
      "609/610 [============================>.] - ETA: 0s - loss: 0.0156 - accuracy: 0.9952INFO:tensorflow:Assets written to: models/experiment-fiters-1/assets\n"
     ]
    },
    {
     "name": "stderr",
     "output_type": "stream",
     "text": [
      "INFO:tensorflow:Assets written to: models/experiment-fiters-1/assets\n"
     ]
    },
    {
     "name": "stdout",
     "output_type": "stream",
     "text": [
      "610/610 [==============================] - 6s 10ms/step - loss: 0.0156 - accuracy: 0.9952 - val_loss: 8.4663e-04 - val_accuracy: 1.0000\n",
      "Epoch 5/10\n",
      "610/610 [==============================] - 6s 9ms/step - loss: 8.5614e-04 - accuracy: 0.9999 - val_loss: 0.0183 - val_accuracy: 0.9928\n",
      "Epoch 6/10\n",
      "610/610 [==============================] - 6s 9ms/step - loss: 0.0119 - accuracy: 0.9969 - val_loss: 0.3684 - val_accuracy: 0.8957\n",
      "Epoch 7/10\n",
      "605/610 [============================>.] - ETA: 0s - loss: 0.0339 - accuracy: 0.9898INFO:tensorflow:Assets written to: models/experiment-fiters-1/assets\n"
     ]
    },
    {
     "name": "stderr",
     "output_type": "stream",
     "text": [
      "INFO:tensorflow:Assets written to: models/experiment-fiters-1/assets\n"
     ]
    },
    {
     "name": "stdout",
     "output_type": "stream",
     "text": [
      "610/610 [==============================] - 6s 10ms/step - loss: 0.0336 - accuracy: 0.9899 - val_loss: 5.8926e-04 - val_accuracy: 0.9999\n",
      "Epoch 8/10\n",
      "609/610 [============================>.] - ETA: 0s - loss: 2.1804e-04 - accuracy: 1.0000INFO:tensorflow:Assets written to: models/experiment-fiters-1/assets\n"
     ]
    },
    {
     "name": "stderr",
     "output_type": "stream",
     "text": [
      "INFO:tensorflow:Assets written to: models/experiment-fiters-1/assets\n"
     ]
    },
    {
     "name": "stdout",
     "output_type": "stream",
     "text": [
      "610/610 [==============================] - 6s 10ms/step - loss: 2.1816e-04 - accuracy: 1.0000 - val_loss: 2.3282e-04 - val_accuracy: 1.0000\n",
      "Epoch 9/10\n",
      "607/610 [============================>.] - ETA: 0s - loss: 1.0517e-04 - accuracy: 1.0000INFO:tensorflow:Assets written to: models/experiment-fiters-1/assets\n"
     ]
    },
    {
     "name": "stderr",
     "output_type": "stream",
     "text": [
      "INFO:tensorflow:Assets written to: models/experiment-fiters-1/assets\n"
     ]
    },
    {
     "name": "stdout",
     "output_type": "stream",
     "text": [
      "610/610 [==============================] - 6s 10ms/step - loss: 1.0491e-04 - accuracy: 1.0000 - val_loss: 1.4883e-04 - val_accuracy: 1.0000\n",
      "Epoch 10/10\n",
      "608/610 [============================>.] - ETA: 0s - loss: 6.8570e-05 - accuracy: 1.0000INFO:tensorflow:Assets written to: models/experiment-fiters-1/assets\n"
     ]
    },
    {
     "name": "stderr",
     "output_type": "stream",
     "text": [
      "INFO:tensorflow:Assets written to: models/experiment-fiters-1/assets\n"
     ]
    },
    {
     "name": "stdout",
     "output_type": "stream",
     "text": [
      "\b\b\b\b\b\b\b\b\b\b\b\b\b\b\b\b\b\b\b\b\b\b\b\b\b\b\b\b\b\b\b\b\b\b\b\b\b\b\b\b\b\b\b\b\b\b\b\b\b\b\b\b\b\b\b\b\b\b\b\b\b\b\b\b\b\b\b\b\b\b\b\b\b\b\b\b\b\b\b\b\b\b\b\b\b\b\b\b\r",
      "610/610 [==============================] - 6s 10ms/step - loss: 6.8510e-05 - accuracy: 1.0000 - val_loss: 1.1491e-04 - val_accuracy: 1.0000\n"
     ]
    }
   ],
   "source": [
    "# Models\n",
    "# 'models/experiment-fiters-1'\n",
    "\n",
    "# History objects\n",
    "# 'models/experiment-filters-1-history'\n",
    "\n",
    "save_best_cb = keras.callbacks.ModelCheckpoint(f'models/experiment-fiters-1', save_best_only=True)\n",
    "early_stopping_cb = keras.callbacks.EarlyStopping(patience=5)\n",
    "\n",
    "model = keras.models.Sequential()\n",
    "model.add(keras.layers.Conv2D(24, (3, 3), padding='same', activation='relu'))\n",
    "model.add(keras.layers.MaxPooling2D(pool_size=(2, 2)))\n",
    "model.add(keras.layers.Conv2D(48, (3, 3), padding='same', activation='relu'))\n",
    "model.add(keras.layers.MaxPooling2D(pool_size=(2, 2)))\n",
    "model.add(keras.layers.Conv2D(96, (3, 3), padding='same', activation='relu'))\n",
    "model.add(keras.layers.MaxPooling2D(pool_size=(2, 2)))\n",
    "model.add(keras.layers.Flatten())\n",
    "model.add(keras.layers.Dense(128, activation='relu'))\n",
    "model.add(keras.layers.Dense(24, activation='softmax'))\n",
    "model.compile(loss='categorical_crossentropy', optimizer='adam', metrics=['accuracy'])\n",
    "history = model.fit(X_train, y_train, epochs=10, validation_data=(X_valid, y_valid), callbacks=[save_best_cb, early_stopping_cb])\n",
    "with open(f'models/experiment-filters-1-history', 'wb') as history_file:\n",
    "    pickle.dump(history.history, history_file)"
   ]
  },
  {
   "cell_type": "code",
   "execution_count": 64,
   "id": "816df03f",
   "metadata": {
    "ExecuteTime": {
     "end_time": "2023-05-27T10:35:25.806032Z",
     "start_time": "2023-05-27T10:35:24.400092Z"
    }
   },
   "outputs": [
    {
     "name": "stdout",
     "output_type": "stream",
     "text": [
      "249/249 [==============================] - 1s 4ms/step - loss: 1.1491e-04 - accuracy: 1.0000\n"
     ]
    },
    {
     "data": {
      "text/plain": [
       "[0.00011490615725051612, 1.0]"
      ]
     },
     "execution_count": 64,
     "metadata": {},
     "output_type": "execute_result"
    }
   ],
   "source": [
    "model = keras.models.load_model('models/experiment-fiters-1/')\n",
    "model.evaluate(X_valid, y_valid)"
   ]
  },
  {
   "cell_type": "code",
   "execution_count": 65,
   "id": "1163b70d",
   "metadata": {
    "ExecuteTime": {
     "end_time": "2023-05-27T10:35:27.620692Z",
     "start_time": "2023-05-27T10:35:27.415021Z"
    },
    "scrolled": true
   },
   "outputs": [
    {
     "data": {
      "image/png": "[encoded data removed]",
      "text/plain": [
       "<Figure size 1000x500 with 1 Axes>"
      ]
     },
     "metadata": {},
     "output_type": "display_data"
    },
    {
     "data": {
      "image/png": "[encoded data removed]",
      "text/plain": [
       "<Figure size 1000x500 with 1 Axes>"
      ]
     },
     "metadata": {},
     "output_type": "display_data"
    }
   ],
   "source": [
    "h_2_3 = np.load('models/experiment-fmaps-3-history', allow_pickle=True)\n",
    "h = np.load('models/experiment-filters-1-history', allow_pickle=True)\n",
    "get_train_val_plots(h, yticks=np.arange(0, 1.2, 0.1))\n",
    "get_train_val_plots(h_2_3, yticks=np.arange(0, 1.2, 0.1))"
   ]
  },
  {
   "cell_type": "markdown",
   "id": "41197ef4",
   "metadata": {},
   "source": [
    "We choose to use filter sizes of (5x5)"
   ]
  },
  {
   "cell_type": "markdown",
   "id": "d6ab0734",
   "metadata": {},
   "source": [
    "## Dropout"
   ]
  },
  {
   "cell_type": "code",
   "execution_count": 66,
   "id": "39ea34d6",
   "metadata": {
    "ExecuteTime": {
     "end_time": "2023-05-27T10:41:49.828792Z",
     "start_time": "2023-05-27T10:35:33.860677Z"
    }
   },
   "outputs": [
    {
     "name": "stdout",
     "output_type": "stream",
     "text": [
      "Epoch 1/10\n",
      "607/610 [============================>.] - ETA: 0s - loss: 1.8031 - accuracy: 0.4337INFO:tensorflow:Assets written to: models/experiment-dropout-0/assets\n"
     ]
    },
    {
     "name": "stderr",
     "output_type": "stream",
     "text": [
      "INFO:tensorflow:Assets written to: models/experiment-dropout-0/assets\n"
     ]
    },
    {
     "name": "stdout",
     "output_type": "stream",
     "text": [
      "610/610 [==============================] - 12s 20ms/step - loss: 1.7986 - accuracy: 0.4353 - val_loss: 0.2887 - val_accuracy: 0.9195\n",
      "Epoch 2/10\n",
      "607/610 [============================>.] - ETA: 0s - loss: 0.3531 - accuracy: 0.8790INFO:tensorflow:Assets written to: models/experiment-dropout-0/assets\n"
     ]
    },
    {
     "name": "stderr",
     "output_type": "stream",
     "text": [
      "INFO:tensorflow:Assets written to: models/experiment-dropout-0/assets\n"
     ]
    },
    {
     "name": "stdout",
     "output_type": "stream",
     "text": [
      "610/610 [==============================] - 12s 19ms/step - loss: 0.3524 - accuracy: 0.8792 - val_loss: 0.0403 - val_accuracy: 0.9943\n",
      "Epoch 3/10\n",
      "608/610 [============================>.] - ETA: 0s - loss: 0.1587 - accuracy: 0.9480INFO:tensorflow:Assets written to: models/experiment-dropout-0/assets\n"
     ]
    },
    {
     "name": "stderr",
     "output_type": "stream",
     "text": [
      "INFO:tensorflow:Assets written to: models/experiment-dropout-0/assets\n"
     ]
    },
    {
     "name": "stdout",
     "output_type": "stream",
     "text": [
      "610/610 [==============================] - 12s 19ms/step - loss: 0.1586 - accuracy: 0.9479 - val_loss: 0.0081 - val_accuracy: 0.9994\n",
      "Epoch 4/10\n",
      "610/610 [==============================] - ETA: 0s - loss: 0.1007 - accuracy: 0.9659INFO:tensorflow:Assets written to: models/experiment-dropout-0/assets\n"
     ]
    },
    {
     "name": "stderr",
     "output_type": "stream",
     "text": [
      "INFO:tensorflow:Assets written to: models/experiment-dropout-0/assets\n"
     ]
    },
    {
     "name": "stdout",
     "output_type": "stream",
     "text": [
      "610/610 [==============================] - 12s 19ms/step - loss: 0.1007 - accuracy: 0.9659 - val_loss: 0.0046 - val_accuracy: 0.9999\n",
      "Epoch 5/10\n",
      "610/610 [==============================] - ETA: 0s - loss: 0.0690 - accuracy: 0.9772INFO:tensorflow:Assets written to: models/experiment-dropout-0/assets\n"
     ]
    },
    {
     "name": "stderr",
     "output_type": "stream",
     "text": [
      "INFO:tensorflow:Assets written to: models/experiment-dropout-0/assets\n"
     ]
    },
    {
     "name": "stdout",
     "output_type": "stream",
     "text": [
      "610/610 [==============================] - 12s 19ms/step - loss: 0.0690 - accuracy: 0.9772 - val_loss: 0.0010 - val_accuracy: 1.0000\n",
      "Epoch 6/10\n",
      "610/610 [==============================] - 12s 19ms/step - loss: 0.0627 - accuracy: 0.9791 - val_loss: 0.0020 - val_accuracy: 0.9997\n",
      "Epoch 7/10\n",
      "608/610 [============================>.] - ETA: 0s - loss: 0.0491 - accuracy: 0.9841INFO:tensorflow:Assets written to: models/experiment-dropout-0/assets\n"
     ]
    },
    {
     "name": "stderr",
     "output_type": "stream",
     "text": [
      "INFO:tensorflow:Assets written to: models/experiment-dropout-0/assets\n"
     ]
    },
    {
     "name": "stdout",
     "output_type": "stream",
     "text": [
      "610/610 [==============================] - 12s 20ms/step - loss: 0.0490 - accuracy: 0.9841 - val_loss: 2.2687e-04 - val_accuracy: 1.0000\n",
      "Epoch 8/10\n",
      "610/610 [==============================] - 12s 19ms/step - loss: 0.0448 - accuracy: 0.9844 - val_loss: 2.5513e-04 - val_accuracy: 1.0000\n",
      "Epoch 9/10\n",
      "610/610 [==============================] - 12s 20ms/step - loss: 0.0476 - accuracy: 0.9847 - val_loss: 3.5683e-04 - val_accuracy: 1.0000\n",
      "Epoch 10/10\n",
      "610/610 [==============================] - 12s 20ms/step - loss: 0.0458 - accuracy: 0.9853 - val_loss: 0.0012 - val_accuracy: 0.9992\n",
      "Epoch 1/10\n",
      "608/610 [============================>.] - ETA: 0s - loss: 2.2182 - accuracy: 0.3071INFO:tensorflow:Assets written to: models/experiment-dropout-1/assets\n"
     ]
    },
    {
     "name": "stderr",
     "output_type": "stream",
     "text": [
      "INFO:tensorflow:Assets written to: models/experiment-dropout-1/assets\n"
     ]
    },
    {
     "name": "stdout",
     "output_type": "stream",
     "text": [
      "610/610 [==============================] - 13s 21ms/step - loss: 2.2158 - accuracy: 0.3077 - val_loss: 0.6575 - val_accuracy: 0.8057\n",
      "Epoch 2/10\n",
      "607/610 [============================>.] - ETA: 0s - loss: 0.7501 - accuracy: 0.7420INFO:tensorflow:Assets written to: models/experiment-dropout-1/assets\n"
     ]
    },
    {
     "name": "stderr",
     "output_type": "stream",
     "text": [
      "INFO:tensorflow:Assets written to: models/experiment-dropout-1/assets\n"
     ]
    },
    {
     "name": "stdout",
     "output_type": "stream",
     "text": [
      "610/610 [==============================] - 13s 21ms/step - loss: 0.7496 - accuracy: 0.7420 - val_loss: 0.1891 - val_accuracy: 0.9545\n",
      "Epoch 3/10\n",
      "608/610 [============================>.] - ETA: 0s - loss: 0.3915 - accuracy: 0.8630INFO:tensorflow:Assets written to: models/experiment-dropout-1/assets\n"
     ]
    },
    {
     "name": "stderr",
     "output_type": "stream",
     "text": [
      "INFO:tensorflow:Assets written to: models/experiment-dropout-1/assets\n"
     ]
    },
    {
     "name": "stdout",
     "output_type": "stream",
     "text": [
      "610/610 [==============================] - 13s 21ms/step - loss: 0.3915 - accuracy: 0.8631 - val_loss: 0.0548 - val_accuracy: 0.9922\n",
      "Epoch 4/10\n",
      "609/610 [============================>.] - ETA: 0s - loss: 0.2648 - accuracy: 0.9119INFO:tensorflow:Assets written to: models/experiment-dropout-1/assets\n"
     ]
    },
    {
     "name": "stderr",
     "output_type": "stream",
     "text": [
      "INFO:tensorflow:Assets written to: models/experiment-dropout-1/assets\n"
     ]
    },
    {
     "name": "stdout",
     "output_type": "stream",
     "text": [
      "610/610 [==============================] - 13s 21ms/step - loss: 0.2648 - accuracy: 0.9119 - val_loss: 0.0293 - val_accuracy: 0.9966\n",
      "Epoch 5/10\n",
      "610/610 [==============================] - ETA: 0s - loss: 0.1930 - accuracy: 0.9345INFO:tensorflow:Assets written to: models/experiment-dropout-1/assets\n"
     ]
    },
    {
     "name": "stderr",
     "output_type": "stream",
     "text": [
      "INFO:tensorflow:Assets written to: models/experiment-dropout-1/assets\n"
     ]
    },
    {
     "name": "stdout",
     "output_type": "stream",
     "text": [
      "610/610 [==============================] - 14s 22ms/step - loss: 0.1930 - accuracy: 0.9345 - val_loss: 0.0135 - val_accuracy: 0.9996\n",
      "Epoch 6/10\n",
      "609/610 [============================>.] - ETA: 0s - loss: 0.1563 - accuracy: 0.9465INFO:tensorflow:Assets written to: models/experiment-dropout-1/assets\n"
     ]
    },
    {
     "name": "stderr",
     "output_type": "stream",
     "text": [
      "INFO:tensorflow:Assets written to: models/experiment-dropout-1/assets\n"
     ]
    },
    {
     "name": "stdout",
     "output_type": "stream",
     "text": [
      "610/610 [==============================] - 13s 22ms/step - loss: 0.1562 - accuracy: 0.9465 - val_loss: 0.0088 - val_accuracy: 1.0000\n",
      "Epoch 7/10\n",
      "607/610 [============================>.] - ETA: 0s - loss: 0.1315 - accuracy: 0.9563INFO:tensorflow:Assets written to: models/experiment-dropout-1/assets\n"
     ]
    },
    {
     "name": "stderr",
     "output_type": "stream",
     "text": [
      "INFO:tensorflow:Assets written to: models/experiment-dropout-1/assets\n"
     ]
    },
    {
     "name": "stdout",
     "output_type": "stream",
     "text": [
      "610/610 [==============================] - 13s 21ms/step - loss: 0.1318 - accuracy: 0.9562 - val_loss: 0.0030 - val_accuracy: 1.0000\n",
      "Epoch 8/10\n",
      "607/610 [============================>.] - ETA: 0s - loss: 0.1141 - accuracy: 0.9619INFO:tensorflow:Assets written to: models/experiment-dropout-1/assets\n"
     ]
    },
    {
     "name": "stderr",
     "output_type": "stream",
     "text": [
      "INFO:tensorflow:Assets written to: models/experiment-dropout-1/assets\n"
     ]
    },
    {
     "name": "stdout",
     "output_type": "stream",
     "text": [
      "610/610 [==============================] - 13s 22ms/step - loss: 0.1140 - accuracy: 0.9619 - val_loss: 0.0025 - val_accuracy: 0.9999\n",
      "Epoch 9/10\n",
      "609/610 [============================>.] - ETA: 0s - loss: 0.1012 - accuracy: 0.9652INFO:tensorflow:Assets written to: models/experiment-dropout-1/assets\n"
     ]
    },
    {
     "name": "stderr",
     "output_type": "stream",
     "text": [
      "INFO:tensorflow:Assets written to: models/experiment-dropout-1/assets\n"
     ]
    },
    {
     "name": "stdout",
     "output_type": "stream",
     "text": [
      "610/610 [==============================] - 13s 21ms/step - loss: 0.1012 - accuracy: 0.9652 - val_loss: 0.0016 - val_accuracy: 0.9997\n",
      "Epoch 10/10\n",
      "607/610 [============================>.] - ETA: 0s - loss: 0.0933 - accuracy: 0.9693INFO:tensorflow:Assets written to: models/experiment-dropout-1/assets\n"
     ]
    },
    {
     "name": "stderr",
     "output_type": "stream",
     "text": [
      "INFO:tensorflow:Assets written to: models/experiment-dropout-1/assets\n"
     ]
    },
    {
     "name": "stdout",
     "output_type": "stream",
     "text": [
      "610/610 [==============================] - 13s 22ms/step - loss: 0.0932 - accuracy: 0.9692 - val_loss: 5.7994e-04 - val_accuracy: 1.0000\n",
      "Epoch 1/10\n",
      "608/610 [============================>.] - ETA: 0s - loss: 2.7086 - accuracy: 0.1675INFO:tensorflow:Assets written to: models/experiment-dropout-2/assets\n"
     ]
    },
    {
     "name": "stderr",
     "output_type": "stream",
     "text": [
      "INFO:tensorflow:Assets written to: models/experiment-dropout-2/assets\n"
     ]
    },
    {
     "name": "stdout",
     "output_type": "stream",
     "text": [
      "610/610 [==============================] - 13s 21ms/step - loss: 2.7066 - accuracy: 0.1678 - val_loss: 1.2653 - val_accuracy: 0.6582\n",
      "Epoch 2/10\n",
      "609/610 [============================>.] - ETA: 0s - loss: 1.2476 - accuracy: 0.5729INFO:tensorflow:Assets written to: models/experiment-dropout-2/assets\n"
     ]
    },
    {
     "name": "stderr",
     "output_type": "stream",
     "text": [
      "INFO:tensorflow:Assets written to: models/experiment-dropout-2/assets\n"
     ]
    },
    {
     "name": "stdout",
     "output_type": "stream",
     "text": [
      "610/610 [==============================] - 12s 20ms/step - loss: 1.2475 - accuracy: 0.5730 - val_loss: 0.4795 - val_accuracy: 0.8931\n",
      "Epoch 3/10\n",
      "607/610 [============================>.] - ETA: 0s - loss: 0.7283 - accuracy: 0.7449INFO:tensorflow:Assets written to: models/experiment-dropout-2/assets\n"
     ]
    },
    {
     "name": "stderr",
     "output_type": "stream",
     "text": [
      "INFO:tensorflow:Assets written to: models/experiment-dropout-2/assets\n"
     ]
    },
    {
     "name": "stdout",
     "output_type": "stream",
     "text": [
      "610/610 [==============================] - 13s 21ms/step - loss: 0.7274 - accuracy: 0.7451 - val_loss: 0.2070 - val_accuracy: 0.9534\n",
      "Epoch 4/10\n",
      "609/610 [============================>.] - ETA: 0s - loss: 0.5227 - accuracy: 0.8200INFO:tensorflow:Assets written to: models/experiment-dropout-2/assets\n"
     ]
    },
    {
     "name": "stderr",
     "output_type": "stream",
     "text": [
      "INFO:tensorflow:Assets written to: models/experiment-dropout-2/assets\n"
     ]
    },
    {
     "name": "stdout",
     "output_type": "stream",
     "text": [
      "610/610 [==============================] - 13s 21ms/step - loss: 0.5226 - accuracy: 0.8199 - val_loss: 0.1019 - val_accuracy: 0.9879\n",
      "Epoch 5/10\n",
      "607/610 [============================>.] - ETA: 0s - loss: 0.4068 - accuracy: 0.8613INFO:tensorflow:Assets written to: models/experiment-dropout-2/assets\n"
     ]
    },
    {
     "name": "stderr",
     "output_type": "stream",
     "text": [
      "INFO:tensorflow:Assets written to: models/experiment-dropout-2/assets\n"
     ]
    },
    {
     "name": "stdout",
     "output_type": "stream",
     "text": [
      "610/610 [==============================] - 13s 22ms/step - loss: 0.4071 - accuracy: 0.8613 - val_loss: 0.0585 - val_accuracy: 0.9956\n",
      "Epoch 6/10\n",
      "609/610 [============================>.] - ETA: 0s - loss: 0.3390 - accuracy: 0.8839INFO:tensorflow:Assets written to: models/experiment-dropout-2/assets\n"
     ]
    },
    {
     "name": "stderr",
     "output_type": "stream",
     "text": [
      "INFO:tensorflow:Assets written to: models/experiment-dropout-2/assets\n"
     ]
    },
    {
     "name": "stdout",
     "output_type": "stream",
     "text": [
      "610/610 [==============================] - 13s 21ms/step - loss: 0.3390 - accuracy: 0.8838 - val_loss: 0.0549 - val_accuracy: 0.9926\n",
      "Epoch 7/10\n",
      "608/610 [============================>.] - ETA: 0s - loss: 0.2947 - accuracy: 0.9003INFO:tensorflow:Assets written to: models/experiment-dropout-2/assets\n"
     ]
    },
    {
     "name": "stderr",
     "output_type": "stream",
     "text": [
      "INFO:tensorflow:Assets written to: models/experiment-dropout-2/assets\n"
     ]
    },
    {
     "name": "stdout",
     "output_type": "stream",
     "text": [
      "610/610 [==============================] - 12s 20ms/step - loss: 0.2949 - accuracy: 0.9002 - val_loss: 0.0280 - val_accuracy: 0.9977\n",
      "Epoch 8/10\n",
      "607/610 [============================>.] - ETA: 0s - loss: 0.2675 - accuracy: 0.9071INFO:tensorflow:Assets written to: models/experiment-dropout-2/assets\n"
     ]
    },
    {
     "name": "stderr",
     "output_type": "stream",
     "text": [
      "INFO:tensorflow:Assets written to: models/experiment-dropout-2/assets\n"
     ]
    },
    {
     "name": "stdout",
     "output_type": "stream",
     "text": [
      "610/610 [==============================] - 13s 21ms/step - loss: 0.2671 - accuracy: 0.9072 - val_loss: 0.0165 - val_accuracy: 0.9982\n",
      "Epoch 9/10\n",
      "608/610 [============================>.] - ETA: 0s - loss: 0.2487 - accuracy: 0.9176INFO:tensorflow:Assets written to: models/experiment-dropout-2/assets\n"
     ]
    },
    {
     "name": "stderr",
     "output_type": "stream",
     "text": [
      "INFO:tensorflow:Assets written to: models/experiment-dropout-2/assets\n"
     ]
    },
    {
     "name": "stdout",
     "output_type": "stream",
     "text": [
      "610/610 [==============================] - 12s 20ms/step - loss: 0.2489 - accuracy: 0.9174 - val_loss: 0.0128 - val_accuracy: 0.9990\n",
      "Epoch 10/10\n",
      "610/610 [==============================] - ETA: 0s - loss: 0.2336 - accuracy: 0.9213INFO:tensorflow:Assets written to: models/experiment-dropout-2/assets\n"
     ]
    },
    {
     "name": "stderr",
     "output_type": "stream",
     "text": [
      "INFO:tensorflow:Assets written to: models/experiment-dropout-2/assets\n"
     ]
    },
    {
     "name": "stdout",
     "output_type": "stream",
     "text": [
      "\b\b\b\b\b\b\b\b\b\b\b\b\b\b\b\b\b\b\b\b\b\b\b\b\b\b\b\b\b\b\b\b\b\b\b\b\b\b\b\b\b\b\b\b\b\b\b\b\b\b\b\b\b\b\b\b\b\b\b\b\b\b\b\b\b\b\b\b\b\b\b\b\b\b\b\b\b\b\b\b\b\b\b\b\r",
      "610/610 [==============================] - 12s 19ms/step - loss: 0.2336 - accuracy: 0.9213 - val_loss: 0.0116 - val_accuracy: 0.9994\n"
     ]
    }
   ],
   "source": [
    "# Models\n",
    "# 'models/experiment-dropout-0'\n",
    "# 'models/experiment-dropout-1'\n",
    "# 'models/experiment-dropout-2'\n",
    "\n",
    "# History objects\n",
    "# 'models/experiment-dropout-0-history'\n",
    "# 'models/experiment-dropout-1-history'\n",
    "# 'models/experiment-dropout-2-history'\n",
    "\n",
    "early_stopping_cb = keras.callbacks.EarlyStopping(patience=5)\n",
    "\n",
    "dropout_rates = [0.3, 0.4, 0.5]\n",
    "\n",
    "for index, i in enumerate(dropout_rates):\n",
    "    model = keras.models.Sequential()\n",
    "    model.add(keras.layers.Conv2D(24, (5, 5), padding='same', activation='relu'))\n",
    "    model.add(keras.layers.MaxPooling2D(pool_size=(2, 2)))\n",
    "    model.add(keras.layers.Dropout(i))\n",
    "    model.add(keras.layers.Conv2D(48, (5, 5), padding='same', activation='relu'))\n",
    "    model.add(keras.layers.MaxPooling2D(pool_size=(2, 2)))\n",
    "    model.add(keras.layers.Dropout(i))\n",
    "    model.add(keras.layers.Conv2D(96, (5, 5), padding='same', activation='relu'))\n",
    "    model.add(keras.layers.MaxPooling2D(pool_size=(2, 2)))\n",
    "    model.add(keras.layers.Dropout(i))\n",
    "    model.add(keras.layers.Flatten())\n",
    "    model.add(keras.layers.Dense(128, activation='relu'))\n",
    "    model.add(keras.layers.Dropout(i))\n",
    "    model.add(keras.layers.Dense(24, activation='softmax'))\n",
    "    model.compile(loss='categorical_crossentropy', optimizer='adam', metrics=['accuracy'])\n",
    "    save_best_cb = keras.callbacks.ModelCheckpoint(f'models/experiment-dropout-{index}', save_best_only=True)\n",
    "    history = model.fit(X_train, y_train, epochs=10, validation_data=(X_valid, y_valid), callbacks=[save_best_cb, early_stopping_cb])\n",
    "    with open(f'models/experiment-dropout-{index}-history', 'wb') as history_file:\n",
    "        pickle.dump(history.history, history_file)"
   ]
  },
  {
   "cell_type": "code",
   "execution_count": 67,
   "id": "97243155",
   "metadata": {
    "ExecuteTime": {
     "end_time": "2023-05-27T11:28:24.443552Z",
     "start_time": "2023-05-27T11:28:20.716896Z"
    }
   },
   "outputs": [
    {
     "name": "stdout",
     "output_type": "stream",
     "text": [
      "249/249 [==============================] - 1s 4ms/step - loss: 2.2687e-04 - accuracy: 1.0000\n",
      "249/249 [==============================] - 1s 4ms/step - loss: 5.7994e-04 - accuracy: 1.0000\n",
      "249/249 [==============================] - 1s 4ms/step - loss: 0.0116 - accuracy: 0.9994\n"
     ]
    }
   ],
   "source": [
    "for index in range(3):\n",
    "    model = keras.models.load_model(f'models/experiment-dropout-{index}')\n",
    "    model.evaluate(X_valid, y_valid)"
   ]
  },
  {
   "cell_type": "code",
   "execution_count": 68,
   "id": "e3b5e4d1",
   "metadata": {
    "ExecuteTime": {
     "end_time": "2023-05-27T11:28:26.035282Z",
     "start_time": "2023-05-27T11:28:25.762577Z"
    },
    "scrolled": true
   },
   "outputs": [
    {
     "data": {
      "image/png": "[encoded data removed]",
      "text/plain": [
       "<Figure size 1000x500 with 1 Axes>"
      ]
     },
     "metadata": {},
     "output_type": "display_data"
    },
    {
     "data": {
      "image/png": "[encoded data removed]",
      "text/plain": [
       "<Figure size 1000x500 with 1 Axes>"
      ]
     },
     "metadata": {},
     "output_type": "display_data"
    },
    {
     "data": {
      "image/png": "[encoded data removed]",
      "text/plain": [
       "<Figure size 1000x500 with 1 Axes>"
      ]
     },
     "metadata": {},
     "output_type": "display_data"
    }
   ],
   "source": [
    "h_0 = np.load('models/experiment-dropout-0-history', allow_pickle=True)\n",
    "h_1 = np.load('models/experiment-dropout-1-history', allow_pickle=True)\n",
    "h_2 = np.load('models/experiment-dropout-2-history', allow_pickle=True)\n",
    "\n",
    "get_train_val_plots(h_0)\n",
    "get_train_val_plots(h_1)\n",
    "get_train_val_plots(h_2)"
   ]
  },
  {
   "cell_type": "markdown",
   "id": "12fda6b1",
   "metadata": {},
   "source": [
    "Select Model 1"
   ]
  },
  {
   "cell_type": "markdown",
   "id": "2a324af8",
   "metadata": {},
   "source": [
    "## Data Augmentation"
   ]
  },
  {
   "cell_type": "code",
   "execution_count": 69,
   "id": "a8248a34",
   "metadata": {
    "ExecuteTime": {
     "end_time": "2023-05-27T11:28:29.941143Z",
     "start_time": "2023-05-27T11:28:29.857176Z"
    }
   },
   "outputs": [],
   "source": [
    "# Sample Code\n",
    "\n",
    "data_augmentation = keras.models.Sequential()\n",
    "data_augmentation.add(keras.layers.RandomRotation(0.1, fill_mode='nearest', input_shape=(28, 28, 1)))\n",
    "data_augmentation.add(keras.layers.RandomZoom((0.15, 0.2), fill_mode='nearest'))\n",
    "data_augmentation.add(keras.layers.RandomTranslation(0.1, 0.1, fill_mode='nearest'))\n",
    "\n",
    "model = keras.models.Sequential()\n",
    "# Add the layers from the above model"
   ]
  },
  {
   "cell_type": "markdown",
   "id": "4d16aecf",
   "metadata": {},
   "source": [
    "Improves the models performance by decreasing the tendency to overfit"
   ]
  },
  {
   "cell_type": "markdown",
   "id": "5a43ebe6",
   "metadata": {},
   "source": [
    "## Other Hyperparameters to try\n",
    "\n",
    "1. Batch Normalization - It normalizes the layer inputs\n",
    "2. Deeper networks work well - Replacing the single convolution layer of filter size (5X5) with two successive consecutive convolution layers of filter size (3X3)\n",
    "3. Number of units in the dense layer and number of dense layers\n",
    "4. Replacing the MaxPooling Layer with a convolution layer having a stride > 1\n",
    "5. Optimizers\n",
    "6. Learning rate of the optimizer"
   ]
  },
  {
   "cell_type": "markdown",
   "id": "ec6be927",
   "metadata": {},
   "source": [
    "## Visualising the final model"
   ]
  },
  {
   "cell_type": "code",
   "execution_count": 72,
   "id": "753b2d78",
   "metadata": {
    "ExecuteTime": {
     "end_time": "2023-05-27T11:29:49.087978Z",
     "start_time": "2023-05-27T11:29:48.921678Z"
    },
    "scrolled": true
   },
   "outputs": [
    {
     "name": "stdout",
     "output_type": "stream",
     "text": [
      "You must install pydot (`pip install pydot`) and install graphviz (see instructions at https://graphviz.gitlab.io/download/) for plot_model to work.\n"
     ]
    }
   ],
   "source": [
    "best_model = keras.models.load_model('models/experiment-dropout-0/')\n",
    "plot_model(best_model, to_file='model.png', show_shapes=True, show_layer_names=True)"
   ]
  },
  {
   "cell_type": "markdown",
   "id": "b04bca5e",
   "metadata": {},
   "source": [
    "# Performance on the Test Set"
   ]
  },
  {
   "cell_type": "code",
   "execution_count": 73,
   "id": "90fee9da",
   "metadata": {
    "ExecuteTime": {
     "end_time": "2023-05-27T11:30:02.790396Z",
     "start_time": "2023-05-27T11:30:02.545861Z"
    }
   },
   "outputs": [],
   "source": [
    "test_df = pd.read_csv('data/alphabet/sign_mnist_test.csv')\n",
    "X_test, y_test = test_df.drop('label', axis=1), test_df['label']"
   ]
  },
  {
   "cell_type": "code",
   "execution_count": 74,
   "id": "588e05b8",
   "metadata": {
    "ExecuteTime": {
     "end_time": "2023-05-27T11:30:03.489862Z",
     "start_time": "2023-05-27T11:30:03.305467Z"
    }
   },
   "outputs": [],
   "source": [
    "best_model = keras.models.load_model('models/experiment-dropout-0/')"
   ]
  },
  {
   "cell_type": "code",
   "execution_count": 75,
   "id": "666818aa",
   "metadata": {
    "ExecuteTime": {
     "end_time": "2023-05-27T11:30:04.983827Z",
     "start_time": "2023-05-27T11:30:03.923513Z"
    }
   },
   "outputs": [
    {
     "name": "stdout",
     "output_type": "stream",
     "text": [
      "225/225 [==============================] - 1s 4ms/step - loss: 12.9682 - accuracy: 0.9700\n",
      "Loss: 12.968 Accuracy: 0.970\n"
     ]
    }
   ],
   "source": [
    "evaluate_model(best_model, X_test, y_test, label_binarizer)"
   ]
  },
  {
   "cell_type": "markdown",
   "id": "a8090486",
   "metadata": {},
   "source": [
    "Accuracy: 96%"
   ]
  },
  {
   "cell_type": "code",
   "execution_count": 76,
   "id": "82643927",
   "metadata": {
    "ExecuteTime": {
     "end_time": "2023-05-27T11:30:06.610675Z",
     "start_time": "2023-05-27T11:30:06.362460Z"
    }
   },
   "outputs": [],
   "source": [
    "test_df = pd.read_csv('data/alphabet/sign_mnist_test.csv')\n",
    "X_test, y_test = test_df.drop('label', axis=1), test_df['label']"
   ]
  },
  {
   "cell_type": "code",
   "execution_count": 77,
   "id": "5d02d431",
   "metadata": {
    "ExecuteTime": {
     "end_time": "2023-05-27T11:30:07.133739Z",
     "start_time": "2023-05-27T11:30:07.109813Z"
    }
   },
   "outputs": [],
   "source": [
    "# Applying normalisation which is applied for X_train\n",
    "X_test /= 255.0"
   ]
  },
  {
   "cell_type": "code",
   "execution_count": 78,
   "id": "7332b757",
   "metadata": {
    "ExecuteTime": {
     "end_time": "2023-05-27T11:30:07.683180Z",
     "start_time": "2023-05-27T11:30:07.503555Z"
    }
   },
   "outputs": [],
   "source": [
    "best_model = keras.models.load_model('models/experiment-dropout-0/')"
   ]
  },
  {
   "cell_type": "code",
   "execution_count": 79,
   "id": "83bb851a",
   "metadata": {
    "ExecuteTime": {
     "end_time": "2023-05-27T11:30:09.377218Z",
     "start_time": "2023-05-27T11:30:08.307393Z"
    }
   },
   "outputs": [
    {
     "name": "stdout",
     "output_type": "stream",
     "text": [
      "225/225 [==============================] - 1s 4ms/step - loss: 0.0678 - accuracy: 0.9773\n",
      "Loss: 0.068 Accuracy: 0.977\n"
     ]
    }
   ],
   "source": [
    "evaluate_model(best_model, X_test, y_test, label_binarizer)"
   ]
  },
  {
   "cell_type": "code",
   "execution_count": 82,
   "id": "7ceca618",
   "metadata": {
    "ExecuteTime": {
     "end_time": "2023-05-27T11:33:38.515600Z",
     "start_time": "2023-05-27T11:33:34.137051Z"
    }
   },
   "outputs": [
    {
     "name": "stdout",
     "output_type": "stream",
     "text": [
      "Collecting streamlit\n",
      "  Using cached streamlit-1.22.0-py2.py3-none-any.whl (8.9 MB)\n",
      "Collecting altair<5,>=3.2.0\n",
      "  Using cached altair-4.2.2-py3-none-any.whl (813 kB)\n",
      "Collecting blinker>=1.0.0\n",
      "  Using cached blinker-1.6.2-py3-none-any.whl (13 kB)\n",
      "Requirement already satisfied: cachetools>=4.0 in /Library/Frameworks/Python.framework/Versions/3.11/lib/python3.11/site-packages (from streamlit) (5.3.0)\n",
      "Collecting click>=7.0\n",
      "  Using cached click-8.1.3-py3-none-any.whl (96 kB)\n",
      "Collecting importlib-metadata>=1.4\n",
      "  Using cached importlib_metadata-6.6.0-py3-none-any.whl (22 kB)\n",
      "Requirement already satisfied: numpy in /Library/Frameworks/Python.framework/Versions/3.11/lib/python3.11/site-packages (from streamlit) (1.24.1)\n",
      "Requirement already satisfied: packaging>=14.1 in /Library/Frameworks/Python.framework/Versions/3.11/lib/python3.11/site-packages (from streamlit) (23.0)\n",
      "Requirement already satisfied: pandas<3,>=0.25 in /Library/Frameworks/Python.framework/Versions/3.11/lib/python3.11/site-packages (from streamlit) (1.5.3)\n",
      "Requirement already satisfied: pillow>=6.2.0 in /Library/Frameworks/Python.framework/Versions/3.11/lib/python3.11/site-packages (from streamlit) (9.4.0)\n",
      "Collecting protobuf<4,>=3.12\n",
      "  Using cached protobuf-3.20.3-py2.py3-none-any.whl (162 kB)\n",
      "Collecting pyarrow>=4.0\n",
      "  Using cached pyarrow-12.0.0-cp311-cp311-macosx_11_0_arm64.whl (22.6 MB)\n",
      "Collecting pympler>=0.9\n",
      "  Using cached Pympler-1.0.1-py3-none-any.whl (164 kB)\n",
      "Requirement already satisfied: python-dateutil in /Library/Frameworks/Python.framework/Versions/3.11/lib/python3.11/site-packages (from streamlit) (2.8.2)\n",
      "Requirement already satisfied: requests>=2.4 in /Library/Frameworks/Python.framework/Versions/3.11/lib/python3.11/site-packages (from streamlit) (2.28.1)\n",
      "Collecting rich>=10.11.0\n",
      "  Using cached rich-13.3.5-py3-none-any.whl (238 kB)\n",
      "Collecting tenacity<9,>=8.0.0\n",
      "  Using cached tenacity-8.2.2-py3-none-any.whl (24 kB)\n",
      "Collecting toml\n",
      "  Using cached toml-0.10.2-py2.py3-none-any.whl (16 kB)\n",
      "Requirement already satisfied: typing-extensions>=3.10.0.0 in /Library/Frameworks/Python.framework/Versions/3.11/lib/python3.11/site-packages (from streamlit) (4.5.0)\n",
      "Collecting tzlocal>=1.1\n",
      "  Using cached tzlocal-5.0.1-py3-none-any.whl (20 kB)\n",
      "Collecting validators>=0.2\n",
      "  Using cached validators-0.20.0-py3-none-any.whl\n",
      "Collecting gitpython!=3.1.19\n",
      "  Using cached GitPython-3.1.31-py3-none-any.whl (184 kB)\n",
      "Collecting pydeck>=0.1.dev5\n",
      "  Using cached pydeck-0.8.1b0-py2.py3-none-any.whl (4.8 MB)\n",
      "Requirement already satisfied: tornado>=6.0.3 in /Library/Frameworks/Python.framework/Versions/3.11/lib/python3.11/site-packages (from streamlit) (6.2)\n",
      "Requirement already satisfied: entrypoints in /Library/Frameworks/Python.framework/Versions/3.11/lib/python3.11/site-packages (from altair<5,>=3.2.0->streamlit) (0.4)\n",
      "Requirement already satisfied: jinja2 in /Library/Frameworks/Python.framework/Versions/3.11/lib/python3.11/site-packages (from altair<5,>=3.2.0->streamlit) (3.1.2)\n",
      "Requirement already satisfied: jsonschema>=3.0 in /Library/Frameworks/Python.framework/Versions/3.11/lib/python3.11/site-packages (from altair<5,>=3.2.0->streamlit) (4.17.3)\n",
      "Collecting toolz\n",
      "  Using cached toolz-0.12.0-py3-none-any.whl (55 kB)\n",
      "Collecting gitdb<5,>=4.0.1\n",
      "  Using cached gitdb-4.0.10-py3-none-any.whl (62 kB)\n",
      "Collecting zipp>=0.5\n",
      "  Using cached zipp-3.15.0-py3-none-any.whl (6.8 kB)\n",
      "Requirement already satisfied: pytz>=2020.1 in /Library/Frameworks/Python.framework/Versions/3.11/lib/python3.11/site-packages (from pandas<3,>=0.25->streamlit) (2022.7)\n",
      "Requirement already satisfied: six>=1.5 in /Library/Frameworks/Python.framework/Versions/3.11/lib/python3.11/site-packages (from python-dateutil->streamlit) (1.16.0)\n",
      "Requirement already satisfied: charset-normalizer<3,>=2 in /Library/Frameworks/Python.framework/Versions/3.11/lib/python3.11/site-packages (from requests>=2.4->streamlit) (2.1.1)\n",
      "Requirement already satisfied: idna<4,>=2.5 in /Library/Frameworks/Python.framework/Versions/3.11/lib/python3.11/site-packages (from requests>=2.4->streamlit) (3.4)\n",
      "Requirement already satisfied: urllib3<1.27,>=1.21.1 in /Library/Frameworks/Python.framework/Versions/3.11/lib/python3.11/site-packages (from requests>=2.4->streamlit) (1.26.13)\n",
      "Requirement already satisfied: certifi>=2017.4.17 in /Library/Frameworks/Python.framework/Versions/3.11/lib/python3.11/site-packages (from requests>=2.4->streamlit) (2022.12.7)\n",
      "Collecting markdown-it-py<3.0.0,>=2.2.0\n",
      "  Using cached markdown_it_py-2.2.0-py3-none-any.whl (84 kB)\n",
      "Requirement already satisfied: pygments<3.0.0,>=2.13.0 in /Library/Frameworks/Python.framework/Versions/3.11/lib/python3.11/site-packages (from rich>=10.11.0->streamlit) (2.14.0)\n",
      "Requirement already satisfied: decorator>=3.4.0 in /Library/Frameworks/Python.framework/Versions/3.11/lib/python3.11/site-packages (from validators>=0.2->streamlit) (5.1.1)\n",
      "Collecting smmap<6,>=3.0.1\n",
      "  Using cached smmap-5.0.0-py3-none-any.whl (24 kB)\n",
      "Requirement already satisfied: MarkupSafe>=2.0 in /Library/Frameworks/Python.framework/Versions/3.11/lib/python3.11/site-packages (from jinja2->altair<5,>=3.2.0->streamlit) (2.1.1)\n",
      "Requirement already satisfied: attrs>=17.4.0 in /Library/Frameworks/Python.framework/Versions/3.11/lib/python3.11/site-packages (from jsonschema>=3.0->altair<5,>=3.2.0->streamlit) (22.2.0)\n",
      "Requirement already satisfied: pyrsistent!=0.17.0,!=0.17.1,!=0.17.2,>=0.14.0 in /Library/Frameworks/Python.framework/Versions/3.11/lib/python3.11/site-packages (from jsonschema>=3.0->altair<5,>=3.2.0->streamlit) (0.19.3)\n",
      "Collecting mdurl~=0.1\n",
      "  Using cached mdurl-0.1.2-py3-none-any.whl (10.0 kB)\n",
      "Installing collected packages: zipp, validators, tzlocal, toolz, toml, tenacity, smmap, pympler, pyarrow, protobuf, mdurl, click, blinker, pydeck, markdown-it-py, importlib-metadata, gitdb, rich, gitpython, altair, streamlit\n",
      "  Attempting uninstall: protobuf\n",
      "    Found existing installation: protobuf 4.22.1\n",
      "    Uninstalling protobuf-4.22.1:\n",
      "      Successfully uninstalled protobuf-4.22.1\n",
      "Successfully installed altair-4.2.2 blinker-1.6.2 click-8.1.3 gitdb-4.0.10 gitpython-3.1.31 importlib-metadata-6.6.0 markdown-it-py-2.2.0 mdurl-0.1.2 protobuf-3.20.3 pyarrow-12.0.0 pydeck-0.8.1b0 pympler-1.0.1 rich-13.3.5 smmap-5.0.0 streamlit-1.22.0 tenacity-8.2.2 toml-0.10.2 toolz-0.12.0 tzlocal-5.0.1 validators-0.20.0 zipp-3.15.0\n",
      "\n",
      "\u001b[1m[\u001b[0m\u001b[34;49mnotice\u001b[0m\u001b[1;39;49m]\u001b[0m\u001b[39;49m A new release of pip is available: \u001b[0m\u001b[31;49m23.0\u001b[0m\u001b[39;49m -> \u001b[0m\u001b[32;49m23.1.2\u001b[0m\n",
      "\u001b[1m[\u001b[0m\u001b[34;49mnotice\u001b[0m\u001b[1;39;49m]\u001b[0m\u001b[39;49m To update, run: \u001b[0m\u001b[32;49mpython3.11 -m pip install --upgrade pip\u001b[0m\n",
      "Note: you may need to restart the kernel to use updated packages.\n"
     ]
    }
   ],
   "source": [
    "pip install streamlit"
   ]
  },
  {
   "cell_type": "markdown",
   "id": "97e05057",
   "metadata": {},
   "source": [
    "Accuracy: 96%"
   ]
  },
  {
   "cell_type": "code",
   "execution_count": 83,
   "id": "6d8a4735",
   "metadata": {
    "ExecuteTime": {
     "end_time": "2023-05-27T11:33:39.002887Z",
     "start_time": "2023-05-27T11:33:38.589389Z"
    }
   },
   "outputs": [
    {
     "name": "stdout",
     "output_type": "stream",
     "text": [
      "Unexpected exception formatting exception. Falling back to standard exception\n"
     ]
    },
    {
     "name": "stderr",
     "output_type": "stream",
     "text": [
      "Traceback (most recent call last):\n",
      "  File \"/Library/Frameworks/Python.framework/Versions/3.11/lib/python3.11/site-packages/IPython/core/interactiveshell.py\", line 3442, in run_code\n",
      "    exec(code_obj, self.user_global_ns, self.user_ns)\n",
      "  File \"/var/folders/02/_2kdmy013rsdzbkv_6m67v1c0000gn/T/ipykernel_34203/3218963428.py\", line 7, in <module>\n",
      "    import streamlit as st\n",
      "  File \"/Library/Frameworks/Python.framework/Versions/3.11/lib/python3.11/site-packages/streamlit/__init__.py\", line 55, in <module>\n",
      "    from streamlit.delta_generator import DeltaGenerator as _DeltaGenerator\n",
      "  File \"/Library/Frameworks/Python.framework/Versions/3.11/lib/python3.11/site-packages/streamlit/delta_generator.py\", line 36, in <module>\n",
      "    from streamlit import config, cursor, env_util, logger, runtime, type_util, util\n",
      "  File \"/Library/Frameworks/Python.framework/Versions/3.11/lib/python3.11/site-packages/streamlit/cursor.py\", line 18, in <module>\n",
      "    from streamlit.runtime.scriptrunner import get_script_run_ctx\n",
      "  File \"/Library/Frameworks/Python.framework/Versions/3.11/lib/python3.11/site-packages/streamlit/runtime/__init__.py\", line 16, in <module>\n",
      "    from streamlit.runtime.runtime import Runtime as Runtime\n",
      "  File \"/Library/Frameworks/Python.framework/Versions/3.11/lib/python3.11/site-packages/streamlit/runtime/runtime.py\", line 29, in <module>\n",
      "    from streamlit.proto.BackMsg_pb2 import BackMsg\n",
      "  File \"/Library/Frameworks/Python.framework/Versions/3.11/lib/python3.11/site-packages/streamlit/proto/BackMsg_pb2.py\", line 14, in <module>\n",
      "    from streamlit.proto import ClientState_pb2 as streamlit_dot_proto_dot_ClientState__pb2\n",
      "  File \"/Library/Frameworks/Python.framework/Versions/3.11/lib/python3.11/site-packages/streamlit/proto/ClientState_pb2.py\", line 14, in <module>\n",
      "    from streamlit.proto import WidgetStates_pb2 as streamlit_dot_proto_dot_WidgetStates__pb2\n",
      "  File \"/Library/Frameworks/Python.framework/Versions/3.11/lib/python3.11/site-packages/streamlit/proto/WidgetStates_pb2.py\", line 14, in <module>\n",
      "    from streamlit.proto import Common_pb2 as streamlit_dot_proto_dot_Common__pb2\n",
      "  File \"/Library/Frameworks/Python.framework/Versions/3.11/lib/python3.11/site-packages/streamlit/proto/Common_pb2.py\", line 36, in <module>\n",
      "    _descriptor.FieldDescriptor(\n",
      "  File \"/Library/Frameworks/Python.framework/Versions/3.11/lib/python3.11/site-packages/google/protobuf/descriptor.py\", line 561, in __new__\n",
      "TypeError: Descriptors cannot not be created directly.\n",
      "If this call came from a _pb2.py file, your generated code is out of date and must be regenerated with protoc >= 3.19.0.\n",
      "If you cannot immediately regenerate your protos, some other possible workarounds are:\n",
      " 1. Downgrade the protobuf package to 3.20.x or lower.\n",
      " 2. Set PROTOCOL_BUFFERS_PYTHON_IMPLEMENTATION=python (but this will use pure-Python parsing and will be much slower).\n",
      "\n",
      "More information: https://developers.google.com/protocol-buffers/docs/news/2022-05-06#python-updates\n",
      "\n",
      "During handling of the above exception, another exception occurred:\n",
      "\n",
      "Traceback (most recent call last):\n",
      "  File \"/Library/Frameworks/Python.framework/Versions/3.11/lib/python3.11/site-packages/IPython/core/interactiveshell.py\", line 2057, in showtraceback\n",
      "    stb = self.InteractiveTB.structured_traceback(\n",
      "          ^^^^^^^^^^^^^^^^^^^^^^^^^^^^^^^^^^^^^^^^\n",
      "  File \"/Library/Frameworks/Python.framework/Versions/3.11/lib/python3.11/site-packages/IPython/core/ultratb.py\", line 1118, in structured_traceback\n",
      "    return FormattedTB.structured_traceback(\n",
      "           ^^^^^^^^^^^^^^^^^^^^^^^^^^^^^^^^^\n",
      "  File \"/Library/Frameworks/Python.framework/Versions/3.11/lib/python3.11/site-packages/IPython/core/ultratb.py\", line 1012, in structured_traceback\n",
      "    return VerboseTB.structured_traceback(\n",
      "           ^^^^^^^^^^^^^^^^^^^^^^^^^^^^^^^\n",
      "  File \"/Library/Frameworks/Python.framework/Versions/3.11/lib/python3.11/site-packages/IPython/core/ultratb.py\", line 865, in structured_traceback\n",
      "    formatted_exception = self.format_exception_as_a_whole(etype, evalue, etb, number_of_lines_of_context,\n",
      "                          ^^^^^^^^^^^^^^^^^^^^^^^^^^^^^^^^^^^^^^^^^^^^^^^^^^^^^^^^^^^^^^^^^^^^^^^^^^^^^^^^\n",
      "  File \"/Library/Frameworks/Python.framework/Versions/3.11/lib/python3.11/site-packages/IPython/core/ultratb.py\", line 818, in format_exception_as_a_whole\n",
      "    frames.append(self.format_record(r))\n",
      "                  ^^^^^^^^^^^^^^^^^^^^^\n",
      "  File \"/Library/Frameworks/Python.framework/Versions/3.11/lib/python3.11/site-packages/IPython/core/ultratb.py\", line 736, in format_record\n",
      "    result += ''.join(_format_traceback_lines(frame_info.lines, Colors, self.has_colors, lvals))\n",
      "                                              ^^^^^^^^^^^^^^^^\n",
      "  File \"/Library/Frameworks/Python.framework/Versions/3.11/lib/python3.11/site-packages/stack_data/utils.py\", line 144, in cached_property_wrapper\n",
      "    value = obj.__dict__[self.func.__name__] = self.func(obj)\n",
      "                                               ^^^^^^^^^^^^^^\n",
      "  File \"/Library/Frameworks/Python.framework/Versions/3.11/lib/python3.11/site-packages/stack_data/core.py\", line 734, in lines\n",
      "    pieces = self.included_pieces\n",
      "             ^^^^^^^^^^^^^^^^^^^^\n",
      "  File \"/Library/Frameworks/Python.framework/Versions/3.11/lib/python3.11/site-packages/stack_data/utils.py\", line 144, in cached_property_wrapper\n",
      "    value = obj.__dict__[self.func.__name__] = self.func(obj)\n",
      "                                               ^^^^^^^^^^^^^^\n",
      "  File \"/Library/Frameworks/Python.framework/Versions/3.11/lib/python3.11/site-packages/stack_data/core.py\", line 681, in included_pieces\n",
      "    pos = scope_pieces.index(self.executing_piece)\n",
      "                             ^^^^^^^^^^^^^^^^^^^^\n",
      "  File \"/Library/Frameworks/Python.framework/Versions/3.11/lib/python3.11/site-packages/stack_data/utils.py\", line 144, in cached_property_wrapper\n",
      "    value = obj.__dict__[self.func.__name__] = self.func(obj)\n",
      "                                               ^^^^^^^^^^^^^^\n",
      "  File \"/Library/Frameworks/Python.framework/Versions/3.11/lib/python3.11/site-packages/stack_data/core.py\", line 660, in executing_piece\n",
      "    return only(\n",
      "           ^^^^^\n",
      "  File \"/Library/Frameworks/Python.framework/Versions/3.11/lib/python3.11/site-packages/executing/executing.py\", line 190, in only\n",
      "    raise NotOneValueFound('Expected one value, found 0')\n",
      "executing.executing.NotOneValueFound: Expected one value, found 0\n"
     ]
    }
   ],
   "source": []
  },
  {
   "cell_type": "code",
   "execution_count": null,
   "id": "8538edba",
   "metadata": {},
   "outputs": [],
   "source": []
  }
 ],
 "metadata": {
  "hide_input": false,
  "kernelspec": {
   "display_name": "Python 3 (ipykernel)",
   "language": "python",
   "name": "python3"
  },
  "language_info": {
   "codemirror_mode": {
    "name": "ipython",
    "version": 3
   },
   "file_extension": ".py",
   "mimetype": "text/x-python",
   "name": "python",
   "nbconvert_exporter": "python",
   "pygments_lexer": "ipython3",
   "version": "3.11.1"
  },
  "toc": {
   "base_numbering": 1,
   "nav_menu": {},
   "number_sections": true,
   "sideBar": true,
   "skip_h1_title": false,
   "title_cell": "Table of Contents",
   "title_sidebar": "Contents",
   "toc_cell": false,
   "toc_position": {},
   "toc_section_display": true,
   "toc_window_display": false
  },
  "varInspector": {
   "cols": {
    "lenName": 16,
    "lenType": 16,
    "lenVar": 40
   },
   "kernels_config": {
    "python": {
     "delete_cmd_postfix": "",
     "delete_cmd_prefix": "del ",
     "library": "var_list.py",
     "varRefreshCmd": "print(var_dic_list())"
    },
    "r": {
     "delete_cmd_postfix": ") ",
     "delete_cmd_prefix": "rm(",
     "library": "var_list.r",
     "varRefreshCmd": "cat(var_dic_list()) "
    }
   },
   "types_to_exclude": [
    "module",
    "function",
    "builtin_function_or_method",
    "instance",
    "_Feature"
   ],
   "window_display": false
  }
 },
 "nbformat": 4,
 "nbformat_minor": 5
}
